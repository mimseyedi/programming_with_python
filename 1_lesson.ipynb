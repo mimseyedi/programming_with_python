{
 "cells": [
  {
   "cell_type": "markdown",
   "id": "8729c747",
   "metadata": {},
   "source": [
    "# **Lesson one**"
   ]
  },
  {
   "cell_type": "markdown",
   "id": "9f24f1cd",
   "metadata": {},
   "source": [
    "## -What is Python?\n",
    "#### Python is an interpreted, object-oriented, high-level programming language with dynamic semantics. Its high-level built in data structures, combined with dynamic typing and dynamic binding, make it very attractive for Rapid Application Development, as well as for use as a scripting or glue language to connect existing components together. Python's simple, easy to learn syntax emphasizes readability and therefore reduces the cost of program maintenance. Python supports modules and packages, which encourages program modularity and code reuse. The Python interpreter and the extensive standard library are available in source or binary form without charge for all major platforms, and can be freely distributed."
   ]
  },
  {
   "cell_type": "markdown",
   "id": "7f70b364",
   "metadata": {},
   "source": [
    "## -Python Power:\n",
    "####      1-Back-end development (django, flask)\n",
    "####      2-Data Science and Machine Learning (scikit-learn, tensorflow, numpy, pandas, matplotlib)"
   ]
  },
  {
   "cell_type": "markdown",
   "id": "72c6fc57",
   "metadata": {},
   "source": [
    "## -Learning Resources:\n",
    "#### 1-https://docs.python.org/3/tutorial -> syntax\n",
    "#### 2-https://docs.python.org/3/library  -> libraries\n",
    "#### 3-https://fullstackpython.com          -> introducing different branches in python\n",
    "#### 4-https://open.kattis.com                 -> training website\n",
    "#### 5-https://stackoverflow.com            -> answer & question"
   ]
  },
  {
   "cell_type": "markdown",
   "id": "d61f7928",
   "metadata": {},
   "source": [
    "## -Dependencies:\n",
    "#### 1-Python interpreter -> https://www.python.org/downloads\n",
    "#### 2-Code Editor (Pycharm) -> https://www.jetbrains.com/pycharm/download"
   ]
  },
  {
   "cell_type": "markdown",
   "id": "5da04820",
   "metadata": {
    "slideshow": {
     "slide_type": "slide"
    }
   },
   "source": [
    "<img src=\"input_output.png\">"
   ]
  },
  {
   "cell_type": "markdown",
   "id": "4afa580b",
   "metadata": {},
   "source": [
    "## -Variables:"
   ]
  },
  {
   "cell_type": "markdown",
   "id": "6c447449",
   "metadata": {},
   "source": [
    "### 1-Integer(int):"
   ]
  },
  {
   "cell_type": "code",
   "execution_count": 1,
   "id": "73857a72",
   "metadata": {},
   "outputs": [],
   "source": [
    "a = 25\n",
    "b = 1950\n",
    "c = -30\n",
    "x = 21525645899582123"
   ]
  },
  {
   "cell_type": "markdown",
   "id": "fa0da450",
   "metadata": {},
   "source": [
    "### 2-Float(float):"
   ]
  },
  {
   "cell_type": "code",
   "execution_count": 2,
   "id": "be0f27c9",
   "metadata": {},
   "outputs": [],
   "source": [
    "a = 13.5\n",
    "b = 91.2532\n",
    "c = -51.99\n",
    "x = 52.952751433"
   ]
  },
  {
   "cell_type": "markdown",
   "id": "d5a3b9e1",
   "metadata": {},
   "source": [
    "### 3-String(str):"
   ]
  },
  {
   "cell_type": "code",
   "execution_count": 3,
   "id": "a69fb283",
   "metadata": {},
   "outputs": [],
   "source": [
    "a = 'Negar'\n",
    "b = \"Iman\"\n",
    "c = 'Barcelona'\n",
    "x = \"Python is an interpreted, object-oriented, high-level programming language with dynamic semantics.\""
   ]
  },
  {
   "cell_type": "markdown",
   "id": "d44bf3e9",
   "metadata": {},
   "source": [
    "### 4-Boolean(bool):"
   ]
  },
  {
   "cell_type": "code",
   "execution_count": 4,
   "id": "fcb151f5",
   "metadata": {},
   "outputs": [],
   "source": [
    "a = True\n",
    "b = False"
   ]
  },
  {
   "cell_type": "markdown",
   "id": "5ef7e527",
   "metadata": {},
   "source": [
    "## -print( ) Function:"
   ]
  },
  {
   "cell_type": "code",
   "execution_count": 5,
   "id": "6c7eb26a",
   "metadata": {},
   "outputs": [
    {
     "name": "stdout",
     "output_type": "stream",
     "text": [
      "2006\n"
     ]
    }
   ],
   "source": [
    "a = 2006\n",
    "print(a)"
   ]
  },
  {
   "cell_type": "code",
   "execution_count": 6,
   "id": "68f1d61f",
   "metadata": {},
   "outputs": [
    {
     "name": "stdout",
     "output_type": "stream",
     "text": [
      "3.14\n"
     ]
    }
   ],
   "source": [
    "b = 3.14\n",
    "print(b)"
   ]
  },
  {
   "cell_type": "code",
   "execution_count": 7,
   "id": "551456ab",
   "metadata": {},
   "outputs": [
    {
     "name": "stdout",
     "output_type": "stream",
     "text": [
      "Python is Awesome!\n"
     ]
    }
   ],
   "source": [
    "c = 'Python is Awesome!'\n",
    "print(c)"
   ]
  },
  {
   "cell_type": "code",
   "execution_count": 8,
   "id": "d85c7cc3",
   "metadata": {},
   "outputs": [
    {
     "name": "stdout",
     "output_type": "stream",
     "text": [
      "True\n"
     ]
    }
   ],
   "source": [
    "x = True\n",
    "print(x)"
   ]
  },
  {
   "cell_type": "markdown",
   "id": "9b44b86e",
   "metadata": {},
   "source": [
    "## -input( ) Function:"
   ]
  },
  {
   "cell_type": "code",
   "execution_count": 9,
   "id": "cd2370d8",
   "metadata": {},
   "outputs": [
    {
     "name": "stdout",
     "output_type": "stream",
     "text": [
      "python\n",
      "python\n"
     ]
    }
   ],
   "source": [
    "a = input()\n",
    "print(a)"
   ]
  },
  {
   "cell_type": "markdown",
   "id": "7cff23e8",
   "metadata": {},
   "source": [
    "## -Operators:"
   ]
  },
  {
   "cell_type": "markdown",
   "id": "ad47943e",
   "metadata": {},
   "source": [
    "### 1-Assignment (=, +=, -=)"
   ]
  },
  {
   "cell_type": "code",
   "execution_count": 10,
   "id": "46ffb8f6",
   "metadata": {},
   "outputs": [
    {
     "name": "stdout",
     "output_type": "stream",
     "text": [
      "19\n",
      "20\n",
      "18\n"
     ]
    }
   ],
   "source": [
    "a = 19\n",
    "print(a)\n",
    "a += 1\n",
    "print(a)\n",
    "a -= 2\n",
    "print(a)"
   ]
  },
  {
   "cell_type": "markdown",
   "id": "27acf3af",
   "metadata": {},
   "source": [
    "### 2-Arithmetic (+, -, **, /, //, *^*, %)"
   ]
  },
  {
   "cell_type": "code",
   "execution_count": 11,
   "id": "522a5972",
   "metadata": {},
   "outputs": [
    {
     "name": "stdout",
     "output_type": "stream",
     "text": [
      "20\n",
      "10\n",
      "75\n",
      "3.0\n",
      "3\n",
      "759375\n",
      "0\n"
     ]
    }
   ],
   "source": [
    "a = 15\n",
    "b = 5\n",
    "print(a + b)\n",
    "print(a - b)\n",
    "print(a * b)\n",
    "print(a / b)\n",
    "print(a // b)\n",
    "print(a ** b)\n",
    "print(a % b)"
   ]
  },
  {
   "cell_type": "markdown",
   "id": "2d86db92",
   "metadata": {},
   "source": [
    "### 3-Relational (>, <, >=, <=, ==, !=)"
   ]
  },
  {
   "cell_type": "code",
   "execution_count": 12,
   "id": "1477d328",
   "metadata": {},
   "outputs": [
    {
     "name": "stdout",
     "output_type": "stream",
     "text": [
      "True\n",
      "False\n",
      "False\n",
      "True\n",
      "True\n",
      "False\n"
     ]
    }
   ],
   "source": [
    "a = 10\n",
    "b = 7\n",
    "print(a > b)\n",
    "print(a < b)\n",
    "\n",
    "a = 9\n",
    "b = 9\n",
    "print(a > b)\n",
    "print(a >= b)\n",
    "print(a == b)\n",
    "print(a != b)"
   ]
  },
  {
   "cell_type": "markdown",
   "id": "b1a989c2",
   "metadata": {},
   "source": [
    "### 4-Logical (and, or, not)"
   ]
  },
  {
   "cell_type": "code",
   "execution_count": 13,
   "id": "1df5af9d",
   "metadata": {},
   "outputs": [
    {
     "name": "stdout",
     "output_type": "stream",
     "text": [
      "False\n",
      "True\n",
      "False\n",
      "True\n"
     ]
    }
   ],
   "source": [
    "a = True\n",
    "b = False\n",
    "print(not a)\n",
    "print(not b)\n",
    "print(a and b)\n",
    "print(a or b)"
   ]
  },
  {
   "cell_type": "markdown",
   "id": "0ceb094b",
   "metadata": {},
   "source": [
    "### 5-Membership (in, not in)"
   ]
  },
  {
   "cell_type": "markdown",
   "id": "b88a273b",
   "metadata": {},
   "source": [
    "### 6-Identity (is, is not)"
   ]
  },
  {
   "cell_type": "markdown",
   "id": "feb68111",
   "metadata": {},
   "source": [
    "### 7-Bitwise (&, |, ^, <<, >>, ~)"
   ]
  },
  {
   "cell_type": "markdown",
   "id": "cbac662b",
   "metadata": {},
   "source": [
    "## -Convert Variables:"
   ]
  },
  {
   "cell_type": "markdown",
   "id": "abb58ff8",
   "metadata": {},
   "source": [
    "<img src=\"convert_model.png\">"
   ]
  },
  {
   "cell_type": "markdown",
   "id": "383774c9",
   "metadata": {},
   "source": [
    "### 1-Explicit:"
   ]
  },
  {
   "cell_type": "code",
   "execution_count": 14,
   "id": "c66edbc4",
   "metadata": {},
   "outputs": [
    {
     "name": "stdout",
     "output_type": "stream",
     "text": [
      "5\n"
     ]
    }
   ],
   "source": [
    "a = 5.3\n",
    "b = int(a)\n",
    "print(b)"
   ]
  },
  {
   "cell_type": "markdown",
   "id": "5d10823c",
   "metadata": {},
   "source": [
    "### 2-Implicit:"
   ]
  },
  {
   "cell_type": "code",
   "execution_count": 15,
   "id": "84b62bf7",
   "metadata": {},
   "outputs": [
    {
     "name": "stdout",
     "output_type": "stream",
     "text": [
      "12.2\n"
     ]
    }
   ],
   "source": [
    "a = 5\n",
    "b = 7.2\n",
    "c = a + b\n",
    "print(c)"
   ]
  },
  {
   "cell_type": "markdown",
   "id": "2360c55b",
   "metadata": {},
   "source": [
    "## -Errors in Python:\n",
    "#### 1-Syntax Error\n",
    "#### 2-Exception (run-time error)"
   ]
  },
  {
   "cell_type": "markdown",
   "id": "19bde9b7",
   "metadata": {},
   "source": [
    "## -Conditions (if, else, elif):"
   ]
  },
  {
   "cell_type": "code",
   "execution_count": 16,
   "id": "73b15e7a",
   "metadata": {},
   "outputs": [
    {
     "name": "stdout",
     "output_type": "stream",
     "text": [
      "x = 5\n"
     ]
    }
   ],
   "source": [
    "x = 5\n",
    "if x == 5:\n",
    "    print(\"x = 5\")"
   ]
  },
  {
   "cell_type": "code",
   "execution_count": 17,
   "id": "f3b01350",
   "metadata": {},
   "outputs": [
    {
     "name": "stdout",
     "output_type": "stream",
     "text": [
      "The condition is met\n"
     ]
    }
   ],
   "source": [
    "if True:\n",
    "    print(\"The condition is met\")"
   ]
  },
  {
   "cell_type": "code",
   "execution_count": 18,
   "id": "687dc925",
   "metadata": {},
   "outputs": [],
   "source": [
    "if False:\n",
    "    print(\"The condition is not met\")"
   ]
  },
  {
   "cell_type": "code",
   "execution_count": 19,
   "id": "e7ac799c",
   "metadata": {},
   "outputs": [
    {
     "name": "stdout",
     "output_type": "stream",
     "text": [
      "x != 10\n"
     ]
    }
   ],
   "source": [
    "if x == 10:\n",
    "    print('x = 10')\n",
    "else:\n",
    "    print('x != 10')"
   ]
  },
  {
   "cell_type": "code",
   "execution_count": 20,
   "id": "46668476",
   "metadata": {},
   "outputs": [
    {
     "name": "stdout",
     "output_type": "stream",
     "text": [
      "x = 10\n",
      "x <= 10\n",
      "x + 5 = 15\n"
     ]
    }
   ],
   "source": [
    "x = 10\n",
    "if x == 10:\n",
    "    print('x = 10')\n",
    "if x <= 10:\n",
    "    print('x <= 10')\n",
    "if x + 5 == 15:\n",
    "    print('x + 5 = 15')"
   ]
  },
  {
   "cell_type": "code",
   "execution_count": 21,
   "id": "0dc364ab",
   "metadata": {},
   "outputs": [
    {
     "name": "stdout",
     "output_type": "stream",
     "text": [
      "x = 10\n"
     ]
    }
   ],
   "source": [
    "x = 10\n",
    "if x == 10:\n",
    "    print('x = 10')\n",
    "elif x <= 10:\n",
    "    print('x <= 10')\n",
    "elif x + 5 == 15:\n",
    "    print('x + 5 = 15')"
   ]
  },
  {
   "cell_type": "markdown",
   "id": "21a1f818",
   "metadata": {},
   "source": [
    "# -Loop (while):"
   ]
  },
  {
   "cell_type": "code",
   "execution_count": 22,
   "id": "18a9a4cd",
   "metadata": {},
   "outputs": [
    {
     "name": "stdout",
     "output_type": "stream",
     "text": [
      "0\n",
      "1\n",
      "2\n",
      "3\n",
      "4\n",
      "5\n"
     ]
    }
   ],
   "source": [
    "i = 0\n",
    "while i <= 5:\n",
    "    print(i)\n",
    "    i += 1"
   ]
  },
  {
   "cell_type": "code",
   "execution_count": 23,
   "id": "407c9480",
   "metadata": {},
   "outputs": [
    {
     "name": "stdout",
     "output_type": "stream",
     "text": [
      "0\n",
      "2\n",
      "4\n",
      "6\n",
      "8\n",
      "10\n"
     ]
    }
   ],
   "source": [
    "i = 0\n",
    "while i <= 10:\n",
    "    if i % 2 == 0:\n",
    "        print(i)\n",
    "    i += 1"
   ]
  },
  {
   "cell_type": "markdown",
   "id": "01f7d367",
   "metadata": {},
   "source": [
    "## -Homeworks:\n",
    "#### 1-fibonacci\n",
    "#### 2-factorial\n",
    "#### 3-power"
   ]
  }
 ],
 "metadata": {
  "kernelspec": {
   "display_name": "Python 3 (ipykernel)",
   "language": "python",
   "name": "python3"
  },
  "language_info": {
   "codemirror_mode": {
    "name": "ipython",
    "version": 3
   },
   "file_extension": ".py",
   "mimetype": "text/x-python",
   "name": "python",
   "nbconvert_exporter": "python",
   "pygments_lexer": "ipython3",
   "version": "3.8.5"
  }
 },
 "nbformat": 4,
 "nbformat_minor": 5
}
