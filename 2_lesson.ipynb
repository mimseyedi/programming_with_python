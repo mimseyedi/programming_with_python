{
 "cells": [
  {
   "cell_type": "markdown",
   "id": "58d6728a",
   "metadata": {},
   "source": [
    "# Lesson two"
   ]
  },
  {
   "cell_type": "markdown",
   "id": "40d1c0e4",
   "metadata": {},
   "source": [
    "## -Comments:"
   ]
  },
  {
   "cell_type": "code",
   "execution_count": 1,
   "id": "c3a8918b",
   "metadata": {},
   "outputs": [],
   "source": [
    "# this is a single line comment."
   ]
  },
  {
   "cell_type": "code",
   "execution_count": 2,
   "id": "aa4dde83",
   "metadata": {},
   "outputs": [
    {
     "data": {
      "text/plain": [
       "'\\nthis is\\na multi\\nline comment.\\n'"
      ]
     },
     "execution_count": 2,
     "metadata": {},
     "output_type": "execute_result"
    }
   ],
   "source": [
    "\"\"\"\n",
    "this is\n",
    "a multi\n",
    "line comment.\n",
    "\"\"\""
   ]
  },
  {
   "cell_type": "code",
   "execution_count": 3,
   "id": "21024526",
   "metadata": {},
   "outputs": [
    {
     "name": "stdout",
     "output_type": "stream",
     "text": [
      "0\n",
      "1\n",
      "2\n"
     ]
    }
   ],
   "source": [
    "# define i\n",
    "i = 0\n",
    "# while loop\n",
    "while i < 3:\n",
    "    # print i value\n",
    "    print(i)\n",
    "    # increasing i\n",
    "    i += 1"
   ]
  },
  {
   "cell_type": "markdown",
   "id": "3213f28e",
   "metadata": {},
   "source": [
    "## -Lists in Python:"
   ]
  },
  {
   "cell_type": "markdown",
   "id": "2f4a9b8c",
   "metadata": {},
   "source": [
    "### 1-Defining a list:"
   ]
  },
  {
   "cell_type": "code",
   "execution_count": 4,
   "id": "fdc0909d",
   "metadata": {},
   "outputs": [
    {
     "name": "stdout",
     "output_type": "stream",
     "text": [
      "[]\n"
     ]
    }
   ],
   "source": [
    "# standard way\n",
    "x = list()\n",
    "print(x)"
   ]
  },
  {
   "cell_type": "code",
   "execution_count": 5,
   "id": "a961d9ed",
   "metadata": {},
   "outputs": [
    {
     "name": "stdout",
     "output_type": "stream",
     "text": [
      "[]\n"
     ]
    }
   ],
   "source": [
    "# shortcut way\n",
    "x = []\n",
    "print(x)"
   ]
  },
  {
   "cell_type": "code",
   "execution_count": 6,
   "id": "dcc2aba7",
   "metadata": {},
   "outputs": [
    {
     "name": "stdout",
     "output_type": "stream",
     "text": [
      "[1, 5, 'z', True, 3.1]\n"
     ]
    }
   ],
   "source": [
    "x = [1, 5, 'z', True, 3.1]\n",
    "print(x)"
   ]
  },
  {
   "cell_type": "markdown",
   "id": "9bd5ff39",
   "metadata": {},
   "source": [
    "### 2-Point to the indexes:"
   ]
  },
  {
   "cell_type": "code",
   "execution_count": 7,
   "id": "2e137efe",
   "metadata": {},
   "outputs": [
    {
     "name": "stdout",
     "output_type": "stream",
     "text": [
      "3\n"
     ]
    }
   ],
   "source": [
    "x = [1, 2, 3, 4, 5]\n",
    "print(x[2])"
   ]
  },
  {
   "cell_type": "code",
   "execution_count": 8,
   "id": "0417083a",
   "metadata": {},
   "outputs": [
    {
     "ename": "IndexError",
     "evalue": "list index out of range",
     "output_type": "error",
     "traceback": [
      "\u001b[0;31m---------------------------------------------------------------------------\u001b[0m",
      "\u001b[0;31mIndexError\u001b[0m                                Traceback (most recent call last)",
      "\u001b[0;32m/var/folders/fy/9rkrxfls6hd0vfkt0r0q66z40000gn/T/ipykernel_2257/378464044.py\u001b[0m in \u001b[0;36m<module>\u001b[0;34m\u001b[0m\n\u001b[1;32m      1\u001b[0m \u001b[0;31m# A index that does not exist cannot be mentioned\u001b[0m\u001b[0;34m\u001b[0m\u001b[0;34m\u001b[0m\u001b[0;34m\u001b[0m\u001b[0m\n\u001b[0;32m----> 2\u001b[0;31m \u001b[0mprint\u001b[0m\u001b[0;34m(\u001b[0m\u001b[0mx\u001b[0m\u001b[0;34m[\u001b[0m\u001b[0;36m5\u001b[0m\u001b[0;34m]\u001b[0m\u001b[0;34m)\u001b[0m\u001b[0;34m\u001b[0m\u001b[0;34m\u001b[0m\u001b[0m\n\u001b[0m",
      "\u001b[0;31mIndexError\u001b[0m: list index out of range"
     ]
    }
   ],
   "source": [
    "# A index that does not exist cannot be mentioned \n",
    "print(x[5])"
   ]
  },
  {
   "cell_type": "markdown",
   "id": "f86bc497",
   "metadata": {},
   "source": [
    "### 3-Adding a new element in list:"
   ]
  },
  {
   "cell_type": "code",
   "execution_count": 9,
   "id": "d2b80e5e",
   "metadata": {},
   "outputs": [
    {
     "name": "stdout",
     "output_type": "stream",
     "text": [
      "[1, 2, 3, 4, 5]\n",
      "[1, 2, 3, 4, 5, 6]\n"
     ]
    }
   ],
   "source": [
    "x = [1, 2, 3, 4, 5]\n",
    "print(x)\n",
    "x.append(6)\n",
    "print(x)"
   ]
  },
  {
   "cell_type": "markdown",
   "id": "53335ac3",
   "metadata": {},
   "source": [
    "### 4-Exercise:\n",
    "#### 4.1-Write a program that takes a number and adds it to the end of a list:"
   ]
  },
  {
   "cell_type": "code",
   "execution_count": 10,
   "id": "505a3d11",
   "metadata": {},
   "outputs": [
    {
     "name": "stdout",
     "output_type": "stream",
     "text": [
      "python\n",
      "[1, 2, 3, 'python']\n"
     ]
    }
   ],
   "source": [
    "x = [1, 2, 3]\n",
    "n = input()\n",
    "x.append(n)\n",
    "print(x)"
   ]
  },
  {
   "cell_type": "markdown",
   "id": "bdfe5131",
   "metadata": {},
   "source": [
    "#### 4.2-Write a program that summarizes the elements of a list:"
   ]
  },
  {
   "cell_type": "code",
   "execution_count": 11,
   "id": "a9303547",
   "metadata": {},
   "outputs": [
    {
     "name": "stdout",
     "output_type": "stream",
     "text": [
      "6\n"
     ]
    }
   ],
   "source": [
    "x = [1, 2, 3]\n",
    "i = 0\n",
    "s = 0\n",
    "while i < 3:\n",
    "    s += x[i]\n",
    "    i += 1\n",
    "print(s)"
   ]
  },
  {
   "cell_type": "markdown",
   "id": "7186a725",
   "metadata": {},
   "source": [
    "#### 4.3-Write a program that takes an entry and says how many of them are in the list?"
   ]
  },
  {
   "cell_type": "code",
   "execution_count": 12,
   "id": "ebd3e11e",
   "metadata": {},
   "outputs": [
    {
     "name": "stdout",
     "output_type": "stream",
     "text": [
      "2\n",
      "3\n"
     ]
    }
   ],
   "source": [
    "x = [1, 2, 2, 5, 8, 8, 9, 3, 2, 1, 3]\n",
    "n = int(input())\n",
    "i = 0\n",
    "c = 0\n",
    "while i < 11:\n",
    "    if x[i] == n:\n",
    "        c += 1\n",
    "    i += 1\n",
    "print(c)"
   ]
  },
  {
   "cell_type": "markdown",
   "id": "3b0b8762",
   "metadata": {},
   "source": [
    "### 5-len( ) Function:"
   ]
  },
  {
   "cell_type": "code",
   "execution_count": 13,
   "id": "ca9c8696",
   "metadata": {},
   "outputs": [
    {
     "name": "stdout",
     "output_type": "stream",
     "text": [
      "7\n"
     ]
    }
   ],
   "source": [
    "x = [5, 3, 7, 1, 0, 9, 13]\n",
    "print(len(x))"
   ]
  },
  {
   "cell_type": "markdown",
   "id": "283c94db",
   "metadata": {},
   "source": [
    "### 6-Membership Operators in list:"
   ]
  },
  {
   "cell_type": "code",
   "execution_count": 14,
   "id": "72b1a78f",
   "metadata": {},
   "outputs": [
    {
     "name": "stdout",
     "output_type": "stream",
     "text": [
      "True\n",
      "False\n",
      "False\n",
      "True\n"
     ]
    }
   ],
   "source": [
    "x = [10, 16, 31, 99, 26, 64, 19]\n",
    "print(19 in x)\n",
    "print(14 in x)\n",
    "print(19 not in x)\n",
    "print(14 not in x)"
   ]
  },
  {
   "cell_type": "markdown",
   "id": "2abbbfda",
   "metadata": {},
   "source": [
    "## -Loop (for):"
   ]
  },
  {
   "cell_type": "code",
   "execution_count": 15,
   "id": "65b0310b",
   "metadata": {},
   "outputs": [
    {
     "name": "stdout",
     "output_type": "stream",
     "text": [
      "1\n",
      "2\n",
      "3\n"
     ]
    }
   ],
   "source": [
    "# for var in sequence:\n",
    "#     ...\n",
    "\n",
    "for i in [1, 2, 3]:\n",
    "    print(i)"
   ]
  },
  {
   "cell_type": "markdown",
   "id": "599c8afc",
   "metadata": {},
   "source": [
    "### -Exercise:\n",
    "#### -Write a program that calculates the average of the numbers in a list"
   ]
  },
  {
   "cell_type": "code",
   "execution_count": 16,
   "id": "b8ed24b5",
   "metadata": {},
   "outputs": [
    {
     "name": "stdout",
     "output_type": "stream",
     "text": [
      "3.5\n"
     ]
    }
   ],
   "source": [
    "x = [3, 4, 2, 5]\n",
    "s = 0\n",
    "for i in x:\n",
    "    s += i\n",
    "print(s / len(x))"
   ]
  },
  {
   "cell_type": "markdown",
   "id": "7c99908c",
   "metadata": {},
   "source": [
    "### -with while loop:"
   ]
  },
  {
   "cell_type": "code",
   "execution_count": 17,
   "id": "8fcb4003",
   "metadata": {},
   "outputs": [
    {
     "name": "stdout",
     "output_type": "stream",
     "text": [
      "3.5\n"
     ]
    }
   ],
   "source": [
    "x = [3, 4, 2, 5]\n",
    "i = 0\n",
    "s = 0\n",
    "while i < len(x):\n",
    "    s += x[i]\n",
    "    i += 1\n",
    "print(s / len(x))"
   ]
  },
  {
   "cell_type": "markdown",
   "id": "2b74dda7",
   "metadata": {},
   "source": [
    "### -range( ) class:"
   ]
  },
  {
   "cell_type": "code",
   "execution_count": 18,
   "id": "33b41127",
   "metadata": {
    "scrolled": true
   },
   "outputs": [
    {
     "name": "stdout",
     "output_type": "stream",
     "text": [
      "0\n",
      "1\n",
      "2\n"
     ]
    }
   ],
   "source": [
    "# range(1, 4) -> [1, 2, 3)\n",
    "# range(3) -> [0, 1, 2)\n",
    "# range(1, 9, 2) -> [1, 3, 5, 7]\n",
    "\n",
    "for i in range(3):\n",
    "    print(i)"
   ]
  },
  {
   "cell_type": "markdown",
   "id": "221c2e6d",
   "metadata": {},
   "source": [
    "### -break statement:"
   ]
  },
  {
   "cell_type": "code",
   "execution_count": 19,
   "id": "6ca64a5b",
   "metadata": {},
   "outputs": [
    {
     "name": "stdout",
     "output_type": "stream",
     "text": [
      "1\n",
      "3\n",
      "5\n"
     ]
    }
   ],
   "source": [
    "for i in range(1, 9, 2):\n",
    "    if i == 7:\n",
    "        break\n",
    "    print(i)"
   ]
  },
  {
   "cell_type": "markdown",
   "id": "adefd458",
   "metadata": {},
   "source": [
    "### -Exercise:\n",
    "#### -Write a program that finds k in the list and returns its index:"
   ]
  },
  {
   "cell_type": "code",
   "execution_count": 20,
   "id": "1ed6ce75",
   "metadata": {},
   "outputs": [
    {
     "name": "stdout",
     "output_type": "stream",
     "text": [
      "3\n"
     ]
    }
   ],
   "source": [
    "x = [5, 3, 2, 4, 6, 7]\n",
    "k = 4\n",
    "for i in range(len(x)):\n",
    "    if x[i] == k:\n",
    "        print(i)\n",
    "        break"
   ]
  },
  {
   "cell_type": "markdown",
   "id": "6a472d9a",
   "metadata": {},
   "source": [
    "## -Homeworks:\n",
    "#### 1-prime number\n",
    "#### 2-what day is today?\n",
    "#### 3-remove duplicate in list (unic list)\n",
    "#### 4-union and intersection of two list"
   ]
  }
 ],
 "metadata": {
  "kernelspec": {
   "display_name": "Python 3 (ipykernel)",
   "language": "python",
   "name": "python3"
  },
  "language_info": {
   "codemirror_mode": {
    "name": "ipython",
    "version": 3
   },
   "file_extension": ".py",
   "mimetype": "text/x-python",
   "name": "python",
   "nbconvert_exporter": "python",
   "pygments_lexer": "ipython3",
   "version": "3.8.5"
  }
 },
 "nbformat": 4,
 "nbformat_minor": 5
}
