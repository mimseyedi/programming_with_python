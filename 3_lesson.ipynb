{
 "cells": [
  {
   "cell_type": "markdown",
   "id": "8529be97",
   "metadata": {},
   "source": [
    "# Lesson three"
   ]
  },
  {
   "cell_type": "markdown",
   "id": "ddbd1de5",
   "metadata": {},
   "source": [
    "## -Functions:"
   ]
  },
  {
   "cell_type": "code",
   "execution_count": 1,
   "id": "0b599ca0",
   "metadata": {},
   "outputs": [
    {
     "name": "stdout",
     "output_type": "stream",
     "text": [
      "even\n",
      "odd\n"
     ]
    }
   ],
   "source": [
    "# def funcname(parameters):\n",
    "#     ...\n",
    "\n",
    "def odd_even(n):\n",
    "    if n % 2 == 0:\n",
    "        print(\"even\")\n",
    "    else:\n",
    "        print(\"odd\")\n",
    "        \n",
    "odd_even(10)\n",
    "odd_even(5)"
   ]
  },
  {
   "cell_type": "markdown",
   "id": "bb05f75d",
   "metadata": {},
   "source": [
    "## -Single Responsibility:\n",
    "#### -Each function must work on one work and not interfere with how input is received."
   ]
  },
  {
   "cell_type": "markdown",
   "id": "f5eb47a6",
   "metadata": {},
   "source": [
    "## -return statement"
   ]
  },
  {
   "cell_type": "code",
   "execution_count": 2,
   "id": "2b0251f0",
   "metadata": {},
   "outputs": [
    {
     "name": "stdout",
     "output_type": "stream",
     "text": [
      "16\n"
     ]
    }
   ],
   "source": [
    "def power(a, b):\n",
    "    if b == 0:\n",
    "        return 1\n",
    "    base = a\n",
    "    for i in range(b - 1):\n",
    "        a *= base\n",
    "    return a\n",
    "\n",
    "print(power(4, 2))"
   ]
  },
  {
   "cell_type": "markdown",
   "id": "135cb66d",
   "metadata": {},
   "source": [
    "## -Default parameters:"
   ]
  },
  {
   "cell_type": "code",
   "execution_count": 3,
   "id": "fb7ae98c",
   "metadata": {},
   "outputs": [
    {
     "name": "stdout",
     "output_type": "stream",
     "text": [
      "25\n",
      "16\n"
     ]
    }
   ],
   "source": [
    "def power(a, b=2):\n",
    "    if b == 0:\n",
    "        return 1\n",
    "    base = a\n",
    "    for i in range(b - 1):\n",
    "        a *= base\n",
    "    return a\n",
    "\n",
    "print(power(5))\n",
    "print(power(2, 4))"
   ]
  },
  {
   "cell_type": "markdown",
   "id": "4df9da5f",
   "metadata": {},
   "source": [
    "## -Pack and Unpack(*args):"
   ]
  },
  {
   "cell_type": "markdown",
   "id": "a34e3898",
   "metadata": {},
   "source": [
    "### -Pack(only in parameters of functions):"
   ]
  },
  {
   "cell_type": "code",
   "execution_count": 4,
   "id": "e7bca95a",
   "metadata": {},
   "outputs": [
    {
     "name": "stdout",
     "output_type": "stream",
     "text": [
      "15\n"
     ]
    }
   ],
   "source": [
    "def maximum(*args):\n",
    "    max_value = 0\n",
    "    for i in args:\n",
    "        if max_value < i:\n",
    "            max_value = i\n",
    "        \n",
    "    return max_value\n",
    "\n",
    "print(maximum(5, 3, 8, 1, 15, 2, 7))"
   ]
  },
  {
   "cell_type": "markdown",
   "id": "deac542e",
   "metadata": {},
   "source": [
    "### -Unpack:"
   ]
  },
  {
   "cell_type": "code",
   "execution_count": 5,
   "id": "f70032f3",
   "metadata": {},
   "outputs": [
    {
     "name": "stdout",
     "output_type": "stream",
     "text": [
      "[0, 3]\n",
      "0 3\n"
     ]
    }
   ],
   "source": [
    "def find(*args, n):\n",
    "    result = []\n",
    "    for i in range(len(args)):\n",
    "        if args[i] == n:\n",
    "            result.append(i)\n",
    "            \n",
    "    return result\n",
    "\n",
    "print(find(2, 5, 7, 2, 9, n=2))\n",
    "\n",
    "# unpacking:\n",
    "print(*find(2, 5, 7, 2, 9, n=2))"
   ]
  },
  {
   "cell_type": "markdown",
   "id": "a0e1dd79",
   "metadata": {},
   "source": [
    "## -Types of Functions:\n",
    "#### 1-The functions we write for ourselves to use in our program.\n",
    "#### 2-Built-in functions.\n",
    "#### 3-Standard Libraries (math, random, os, statistics, ...)\n",
    "#### 4-Pypi Libraries (django, numpy, pandas, request, ...)"
   ]
  },
  {
   "cell_type": "markdown",
   "id": "17132f4b",
   "metadata": {},
   "source": [
    "## -Some built-in Functions:"
   ]
  },
  {
   "cell_type": "markdown",
   "id": "d11fdc5d",
   "metadata": {},
   "source": [
    "### 1-abs:"
   ]
  },
  {
   "cell_type": "code",
   "execution_count": 6,
   "id": "0b2b1fb0",
   "metadata": {},
   "outputs": [
    {
     "name": "stdout",
     "output_type": "stream",
     "text": [
      "5\n"
     ]
    }
   ],
   "source": [
    "x = -5\n",
    "print(abs(x))"
   ]
  },
  {
   "cell_type": "markdown",
   "id": "29741ce1",
   "metadata": {},
   "source": [
    "### 2-sum:"
   ]
  },
  {
   "cell_type": "code",
   "execution_count": 7,
   "id": "9fc24c30",
   "metadata": {},
   "outputs": [
    {
     "name": "stdout",
     "output_type": "stream",
     "text": [
      "10\n"
     ]
    }
   ],
   "source": [
    "x = [5, 3, 2]\n",
    "print(sum(x))"
   ]
  },
  {
   "cell_type": "markdown",
   "id": "ea86bd24",
   "metadata": {},
   "source": [
    "### 3-pow:"
   ]
  },
  {
   "cell_type": "code",
   "execution_count": 8,
   "id": "b7110882",
   "metadata": {},
   "outputs": [
    {
     "name": "stdout",
     "output_type": "stream",
     "text": [
      "16\n"
     ]
    }
   ],
   "source": [
    "print(pow(2, 4))"
   ]
  },
  {
   "cell_type": "markdown",
   "id": "ef7d08f0",
   "metadata": {},
   "source": [
    "### 4-max:"
   ]
  },
  {
   "cell_type": "code",
   "execution_count": 9,
   "id": "9b86f40f",
   "metadata": {},
   "outputs": [
    {
     "name": "stdout",
     "output_type": "stream",
     "text": [
      "19\n"
     ]
    }
   ],
   "source": [
    "x = [10, 3, 6, 19, 9, 8, 5]\n",
    "print(max(x))"
   ]
  },
  {
   "cell_type": "markdown",
   "id": "85f149a6",
   "metadata": {},
   "source": [
    "### 5-min:"
   ]
  },
  {
   "cell_type": "code",
   "execution_count": 10,
   "id": "2ab5e447",
   "metadata": {},
   "outputs": [
    {
     "name": "stdout",
     "output_type": "stream",
     "text": [
      "3\n"
     ]
    }
   ],
   "source": [
    "x = [10, 3, 6, 19, 9, 8, 5]\n",
    "print(min(x))"
   ]
  },
  {
   "cell_type": "markdown",
   "id": "3ebebdce",
   "metadata": {},
   "source": [
    "### 6-round:"
   ]
  },
  {
   "cell_type": "code",
   "execution_count": 11,
   "id": "882a7429",
   "metadata": {},
   "outputs": [
    {
     "name": "stdout",
     "output_type": "stream",
     "text": [
      "5\n"
     ]
    }
   ],
   "source": [
    "x = 5.31\n",
    "print(round(x))"
   ]
  },
  {
   "cell_type": "markdown",
   "id": "87d292de",
   "metadata": {},
   "source": [
    "### 7-sorted:"
   ]
  },
  {
   "cell_type": "code",
   "execution_count": 12,
   "id": "7557787c",
   "metadata": {},
   "outputs": [
    {
     "name": "stdout",
     "output_type": "stream",
     "text": [
      "[3, 5, 6, 8, 9, 10, 19]\n"
     ]
    }
   ],
   "source": [
    "x = [10, 3, 6, 19, 9, 8, 5]\n",
    "print(sorted(x))"
   ]
  },
  {
   "cell_type": "markdown",
   "id": "7a31f0b2",
   "metadata": {},
   "source": [
    "### 8-reversed:"
   ]
  },
  {
   "cell_type": "code",
   "execution_count": 13,
   "id": "21d39725",
   "metadata": {},
   "outputs": [
    {
     "name": "stdout",
     "output_type": "stream",
     "text": [
      "[19, 10, 9, 8, 6, 5, 3]\n"
     ]
    }
   ],
   "source": [
    "x = [10, 3, 6, 19, 9, 8, 5]\n",
    "print(list(reversed(sorted(x))))"
   ]
  },
  {
   "cell_type": "markdown",
   "id": "753e0c5d",
   "metadata": {},
   "source": [
    "### 9-type:"
   ]
  },
  {
   "cell_type": "code",
   "execution_count": 14,
   "id": "940ef4a4",
   "metadata": {},
   "outputs": [
    {
     "name": "stdout",
     "output_type": "stream",
     "text": [
      "<class 'str'>\n"
     ]
    }
   ],
   "source": [
    "x = 'Arash'\n",
    "print(type(x))"
   ]
  },
  {
   "cell_type": "markdown",
   "id": "b9aa6137",
   "metadata": {},
   "source": [
    "### 10-id:"
   ]
  },
  {
   "cell_type": "code",
   "execution_count": 15,
   "id": "89eaba38",
   "metadata": {},
   "outputs": [
    {
     "name": "stdout",
     "output_type": "stream",
     "text": [
      "4365602192\n",
      "4365602192\n"
     ]
    }
   ],
   "source": [
    "a = 5\n",
    "print(id(a))\n",
    "b = a\n",
    "print(id(b))"
   ]
  },
  {
   "cell_type": "markdown",
   "id": "ffa27eae",
   "metadata": {},
   "source": [
    "### 11-zip:"
   ]
  },
  {
   "cell_type": "code",
   "execution_count": 16,
   "id": "9c36445b",
   "metadata": {},
   "outputs": [
    {
     "name": "stdout",
     "output_type": "stream",
     "text": [
      "[(1, 'Bahador'), (2, 'Pegah'), (3, 'Kasra'), (4, 'Shabnam')]\n"
     ]
    }
   ],
   "source": [
    "row = [1, 2, 3, 4]\n",
    "names = [\"Bahador\", \"Pegah\", \"Kasra\", \"Shabnam\"]\n",
    "print(list(zip(row, names)))"
   ]
  },
  {
   "cell_type": "markdown",
   "id": "7aa98297",
   "metadata": {},
   "source": [
    "#### -for more visit: https://docs.python.org/3/library/functions.html"
   ]
  },
  {
   "cell_type": "markdown",
   "id": "7abcc546",
   "metadata": {},
   "source": [
    "## -math Library:"
   ]
  },
  {
   "cell_type": "code",
   "execution_count": 17,
   "id": "c9e49889",
   "metadata": {},
   "outputs": [],
   "source": [
    "import math\n",
    "from math import sqrt\n",
    "from math import sqrt, factorial\n",
    "from math import *\n",
    "import math as ma"
   ]
  },
  {
   "cell_type": "code",
   "execution_count": 18,
   "id": "6e3e577a",
   "metadata": {},
   "outputs": [
    {
     "name": "stdout",
     "output_type": "stream",
     "text": [
      "120\n"
     ]
    }
   ],
   "source": [
    "print(math.factorial(5))"
   ]
  },
  {
   "cell_type": "code",
   "execution_count": 19,
   "id": "6fd5de4d",
   "metadata": {},
   "outputs": [
    {
     "name": "stdout",
     "output_type": "stream",
     "text": [
      "6.0\n"
     ]
    }
   ],
   "source": [
    "print(math.sqrt(36))"
   ]
  },
  {
   "cell_type": "code",
   "execution_count": 20,
   "id": "c1384a19",
   "metadata": {},
   "outputs": [
    {
     "name": "stdout",
     "output_type": "stream",
     "text": [
      "5.0106352940962555\n"
     ]
    }
   ],
   "source": [
    "print(math.log(150))"
   ]
  },
  {
   "cell_type": "code",
   "execution_count": 21,
   "id": "bf2d3211",
   "metadata": {},
   "outputs": [
    {
     "name": "stdout",
     "output_type": "stream",
     "text": [
      "18.84955592153876\n"
     ]
    }
   ],
   "source": [
    "print(math.pi * 2 * 3)"
   ]
  },
  {
   "cell_type": "markdown",
   "id": "9c03d62c",
   "metadata": {},
   "source": [
    "## -random Library:"
   ]
  },
  {
   "cell_type": "code",
   "execution_count": 22,
   "id": "a2b7b186",
   "metadata": {},
   "outputs": [],
   "source": [
    "import random"
   ]
  },
  {
   "cell_type": "code",
   "execution_count": 23,
   "id": "1e2681d8",
   "metadata": {},
   "outputs": [
    {
     "name": "stdout",
     "output_type": "stream",
     "text": [
      "0.9317685006093999\n"
     ]
    }
   ],
   "source": [
    "print(random.random())"
   ]
  },
  {
   "cell_type": "code",
   "execution_count": 24,
   "id": "a2e9f013",
   "metadata": {},
   "outputs": [
    {
     "name": "stdout",
     "output_type": "stream",
     "text": [
      "77\n"
     ]
    }
   ],
   "source": [
    "print(random.randrange(1, 100))"
   ]
  },
  {
   "cell_type": "code",
   "execution_count": 25,
   "id": "ba38f4fd",
   "metadata": {},
   "outputs": [
    {
     "name": "stdout",
     "output_type": "stream",
     "text": [
      "[1, 6, 4, 2, 5, 3]\n"
     ]
    }
   ],
   "source": [
    "x = [1, 2, 3, 4, 5, 6]\n",
    "random.shuffle(x)\n",
    "print(x)"
   ]
  },
  {
   "cell_type": "code",
   "execution_count": 26,
   "id": "88510e14",
   "metadata": {},
   "outputs": [
    {
     "name": "stdout",
     "output_type": "stream",
     "text": [
      "[20, 40, 30]\n"
     ]
    }
   ],
   "source": [
    "print(random.sample([10, 20, 30, 40, 50], k=3))"
   ]
  },
  {
   "cell_type": "code",
   "execution_count": 27,
   "id": "5649420a",
   "metadata": {},
   "outputs": [
    {
     "name": "stdout",
     "output_type": "stream",
     "text": [
      "[2, 1]\n"
     ]
    }
   ],
   "source": [
    "print(random.choices([1, 2, 3, 4, 5 ,6], k=2))"
   ]
  },
  {
   "cell_type": "code",
   "execution_count": 28,
   "id": "9a43d7e4",
   "metadata": {
    "scrolled": true
   },
   "outputs": [
    {
     "name": "stdout",
     "output_type": "stream",
     "text": [
      "['Behrad']\n"
     ]
    }
   ],
   "source": [
    "print(random.choices([\"Parsa\", \"Maryam\", \"Behrad\"], [20, 30, 60], k=1))"
   ]
  },
  {
   "cell_type": "markdown",
   "id": "c44080b7",
   "metadata": {},
   "source": [
    "## -Homeworks:\n",
    "#### 1-fact, union, intersection, perimeter of the circle function\n",
    "#### 2-world-cup"
   ]
  }
 ],
 "metadata": {
  "kernelspec": {
   "display_name": "Python 3 (ipykernel)",
   "language": "python",
   "name": "python3"
  },
  "language_info": {
   "codemirror_mode": {
    "name": "ipython",
    "version": 3
   },
   "file_extension": ".py",
   "mimetype": "text/x-python",
   "name": "python",
   "nbconvert_exporter": "python",
   "pygments_lexer": "ipython3",
   "version": "3.8.5"
  }
 },
 "nbformat": 4,
 "nbformat_minor": 5
}
