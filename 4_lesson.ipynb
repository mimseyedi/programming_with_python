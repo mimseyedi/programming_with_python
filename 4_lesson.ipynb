{
 "cells": [
  {
   "cell_type": "markdown",
   "id": "526d4576",
   "metadata": {},
   "source": [
    "# Lesson four"
   ]
  },
  {
   "cell_type": "markdown",
   "id": "af6d2ab1",
   "metadata": {},
   "source": [
    "## -Lists Functions:"
   ]
  },
  {
   "cell_type": "markdown",
   "id": "27e85788",
   "metadata": {},
   "source": [
    "### 1-append:"
   ]
  },
  {
   "cell_type": "code",
   "execution_count": 1,
   "id": "6fb2fee8",
   "metadata": {},
   "outputs": [
    {
     "name": "stdout",
     "output_type": "stream",
     "text": [
      "[1, 3, 4, 6, 7, 9, 8]\n"
     ]
    }
   ],
   "source": [
    "# inplace\n",
    "x = [1, 3, 4, 6, 7, 9]\n",
    "x.append(8)\n",
    "print(x)"
   ]
  },
  {
   "cell_type": "markdown",
   "id": "3d1bb92c",
   "metadata": {},
   "source": [
    "### 2-extend:"
   ]
  },
  {
   "cell_type": "code",
   "execution_count": 2,
   "id": "fc1dc393",
   "metadata": {},
   "outputs": [
    {
     "name": "stdout",
     "output_type": "stream",
     "text": [
      "[1, 3, 4, 6, 7, 9, 10, 12]\n"
     ]
    }
   ],
   "source": [
    "# inplace\n",
    "x = [1, 3, 4, 6, 7, 9]\n",
    "x.extend([10, 12])\n",
    "print(x)"
   ]
  },
  {
   "cell_type": "markdown",
   "id": "1c766b14",
   "metadata": {},
   "source": [
    "### 3-insert:"
   ]
  },
  {
   "cell_type": "code",
   "execution_count": 3,
   "id": "47e4317a",
   "metadata": {},
   "outputs": [
    {
     "name": "stdout",
     "output_type": "stream",
     "text": [
      "[1, 3, 15, 4, 6, 7, 9]\n"
     ]
    }
   ],
   "source": [
    "# inplace\n",
    "x = [1, 3, 4, 6, 7, 9]\n",
    "x.insert(2, 15)\n",
    "print(x)"
   ]
  },
  {
   "cell_type": "markdown",
   "id": "3741d0f5",
   "metadata": {},
   "source": [
    "### 4-pop:"
   ]
  },
  {
   "cell_type": "code",
   "execution_count": 4,
   "id": "7121bfb5",
   "metadata": {},
   "outputs": [
    {
     "name": "stdout",
     "output_type": "stream",
     "text": [
      "[1, 4, 6, 7, 9]\n"
     ]
    }
   ],
   "source": [
    "# return and inplace\n",
    "x = [1, 3, 4, 6, 7, 9]\n",
    "x.pop(1)\n",
    "print(x)"
   ]
  },
  {
   "cell_type": "code",
   "execution_count": 5,
   "id": "47b51980",
   "metadata": {},
   "outputs": [
    {
     "name": "stdout",
     "output_type": "stream",
     "text": [
      "[1, 3, 4, 6, 7]\n"
     ]
    }
   ],
   "source": [
    "x = [1, 3, 4, 6, 7, 9]\n",
    "x.pop()\n",
    "print(x)"
   ]
  },
  {
   "cell_type": "markdown",
   "id": "294b0373",
   "metadata": {},
   "source": [
    "### 5-remove:"
   ]
  },
  {
   "cell_type": "code",
   "execution_count": 6,
   "id": "b26b7114",
   "metadata": {},
   "outputs": [
    {
     "name": "stdout",
     "output_type": "stream",
     "text": [
      "[1, 3, 4, 7, 9]\n"
     ]
    }
   ],
   "source": [
    "# inplace\n",
    "x = [1, 3, 4, 6, 7, 9]\n",
    "x.remove(6)\n",
    "print(x)"
   ]
  },
  {
   "cell_type": "markdown",
   "id": "f77007e3",
   "metadata": {},
   "source": [
    "### 6-index:"
   ]
  },
  {
   "cell_type": "code",
   "execution_count": 7,
   "id": "33269069",
   "metadata": {},
   "outputs": [
    {
     "name": "stdout",
     "output_type": "stream",
     "text": [
      "4\n"
     ]
    }
   ],
   "source": [
    "# with return\n",
    "x = [1, 3, 4, 6, 7, 9]\n",
    "print(x.index(7))"
   ]
  },
  {
   "cell_type": "markdown",
   "id": "e0a0c653",
   "metadata": {},
   "source": [
    "### 7-count:"
   ]
  },
  {
   "cell_type": "code",
   "execution_count": 8,
   "id": "2e5ee91c",
   "metadata": {},
   "outputs": [
    {
     "name": "stdout",
     "output_type": "stream",
     "text": [
      "3\n"
     ]
    }
   ],
   "source": [
    "# with return\n",
    "x = [1, 3, 4, 6, 7, 9, 3, 4, 3]\n",
    "print(x.count(3))"
   ]
  },
  {
   "cell_type": "markdown",
   "id": "3460353c",
   "metadata": {},
   "source": [
    "### 8-sort:"
   ]
  },
  {
   "cell_type": "code",
   "execution_count": 9,
   "id": "4b614fb1",
   "metadata": {},
   "outputs": [
    {
     "name": "stdout",
     "output_type": "stream",
     "text": [
      "[1, 3, 4, 5, 6, 7, 8, 9, 15]\n"
     ]
    }
   ],
   "source": [
    "# inplace\n",
    "x = [1, 15, 5, 3, 4, 8, 6, 7, 9]\n",
    "x.sort()\n",
    "print(x)"
   ]
  },
  {
   "cell_type": "markdown",
   "id": "6f9ab06b",
   "metadata": {},
   "source": [
    "### 9-reverse:"
   ]
  },
  {
   "cell_type": "code",
   "execution_count": 10,
   "id": "89bdc836",
   "metadata": {},
   "outputs": [
    {
     "name": "stdout",
     "output_type": "stream",
     "text": [
      "[9, 7, 6, 4, 3, 1]\n"
     ]
    }
   ],
   "source": [
    "# inplace\n",
    "x = [1, 3, 4, 6, 7, 9]\n",
    "x.reverse()\n",
    "print(x)"
   ]
  },
  {
   "cell_type": "markdown",
   "id": "aebaa451",
   "metadata": {},
   "source": [
    "### 10-copy:"
   ]
  },
  {
   "cell_type": "code",
   "execution_count": 11,
   "id": "cf0231b2",
   "metadata": {},
   "outputs": [
    {
     "name": "stdout",
     "output_type": "stream",
     "text": [
      "[1, 3, 4, 6, 7, 9]\n"
     ]
    }
   ],
   "source": [
    "# with return\n",
    "x = [1, 3, 4, 6, 7, 9]\n",
    "a = x.copy()\n",
    "print(a)"
   ]
  },
  {
   "cell_type": "markdown",
   "id": "f98e8b1c",
   "metadata": {},
   "source": [
    "### 11-clear:"
   ]
  },
  {
   "cell_type": "code",
   "execution_count": 12,
   "id": "3f6de02e",
   "metadata": {},
   "outputs": [
    {
     "name": "stdout",
     "output_type": "stream",
     "text": [
      "[]\n"
     ]
    }
   ],
   "source": [
    "# inplace\n",
    "x = [1, 3, 4, 6, 7, 9]\n",
    "x.clear()\n",
    "print(x)"
   ]
  },
  {
   "cell_type": "markdown",
   "id": "273afc23",
   "metadata": {},
   "source": [
    "## -Tip:\n",
    "#### -By default, Python does not copy lists implicitly, but must do so manually as explicitly"
   ]
  },
  {
   "cell_type": "code",
   "execution_count": 13,
   "id": "d5fe20a0",
   "metadata": {},
   "outputs": [
    {
     "name": "stdout",
     "output_type": "stream",
     "text": [
      "5\n"
     ]
    }
   ],
   "source": [
    "a = [2, 3]\n",
    "b = a\n",
    "b[0] = 5\n",
    "print(a[0])"
   ]
  },
  {
   "cell_type": "code",
   "execution_count": 14,
   "id": "06c0d057",
   "metadata": {},
   "outputs": [
    {
     "name": "stdout",
     "output_type": "stream",
     "text": [
      "2\n"
     ]
    }
   ],
   "source": [
    "a = [2, 3]\n",
    "b = a.copy()\n",
    "b[0] = 5\n",
    "print(a[0])"
   ]
  },
  {
   "cell_type": "markdown",
   "id": "60242e36",
   "metadata": {},
   "source": [
    "<img src=\"var_types.png\">"
   ]
  },
  {
   "cell_type": "markdown",
   "id": "b1242744",
   "metadata": {},
   "source": [
    "## -Strings in Python:\n",
    "### -Defining str variable:"
   ]
  },
  {
   "cell_type": "code",
   "execution_count": 15,
   "id": "55662536",
   "metadata": {},
   "outputs": [],
   "source": [
    "# standard way:\n",
    "x = str()\n",
    "\n",
    "# shortcut way:\n",
    "x = ''"
   ]
  },
  {
   "cell_type": "markdown",
   "id": "bbf1feef",
   "metadata": {},
   "source": [
    "### -Strings are very similar to lists:"
   ]
  },
  {
   "cell_type": "code",
   "execution_count": 16,
   "id": "670a7e39",
   "metadata": {},
   "outputs": [
    {
     "name": "stdout",
     "output_type": "stream",
     "text": [
      "2\n"
     ]
    }
   ],
   "source": [
    "x = 'abc'\n",
    "print(len(a))"
   ]
  },
  {
   "cell_type": "code",
   "execution_count": 17,
   "id": "cad97021",
   "metadata": {},
   "outputs": [
    {
     "name": "stdout",
     "output_type": "stream",
     "text": [
      "False\n"
     ]
    }
   ],
   "source": [
    "x = 'abc'\n",
    "print('c' in a)"
   ]
  },
  {
   "cell_type": "code",
   "execution_count": 18,
   "id": "eccb358a",
   "metadata": {},
   "outputs": [
    {
     "name": "stdout",
     "output_type": "stream",
     "text": [
      "3\n"
     ]
    }
   ],
   "source": [
    "x = 'abc'\n",
    "print(a[1])"
   ]
  },
  {
   "cell_type": "code",
   "execution_count": 19,
   "id": "b2aac6ce",
   "metadata": {},
   "outputs": [
    {
     "name": "stdout",
     "output_type": "stream",
     "text": [
      "a\n",
      "b\n",
      "c\n"
     ]
    }
   ],
   "source": [
    "x = 'abc'\n",
    "for i in x:\n",
    "    print(i)"
   ]
  },
  {
   "cell_type": "code",
   "execution_count": 20,
   "id": "4718e464",
   "metadata": {},
   "outputs": [
    {
     "name": "stdout",
     "output_type": "stream",
     "text": [
      "ab\n"
     ]
    }
   ],
   "source": [
    "print('a' + 'b')"
   ]
  },
  {
   "cell_type": "code",
   "execution_count": 21,
   "id": "4d3876bb",
   "metadata": {},
   "outputs": [
    {
     "name": "stdout",
     "output_type": "stream",
     "text": [
      "aaa\n"
     ]
    }
   ],
   "source": [
    "print('a' * 3)"
   ]
  },
  {
   "cell_type": "markdown",
   "id": "61da78b6",
   "metadata": {},
   "source": [
    "## -Strings Functions:"
   ]
  },
  {
   "cell_type": "markdown",
   "id": "22a7f68a",
   "metadata": {},
   "source": [
    "### -Tip:\n",
    "#### -None of the string functions are inplace!"
   ]
  },
  {
   "cell_type": "markdown",
   "id": "af57a72d",
   "metadata": {},
   "source": [
    "### 1-find:"
   ]
  },
  {
   "cell_type": "code",
   "execution_count": 22,
   "id": "9815af83",
   "metadata": {},
   "outputs": [
    {
     "name": "stdout",
     "output_type": "stream",
     "text": [
      "2\n"
     ]
    }
   ],
   "source": [
    "x = 'abc'\n",
    "print(x.find('c'))"
   ]
  },
  {
   "cell_type": "markdown",
   "id": "6ffc6058",
   "metadata": {},
   "source": [
    "### 2-count:"
   ]
  },
  {
   "cell_type": "code",
   "execution_count": 23,
   "id": "028a9bf5",
   "metadata": {},
   "outputs": [
    {
     "name": "stdout",
     "output_type": "stream",
     "text": [
      "4\n"
     ]
    }
   ],
   "source": [
    "x = 'abcacbcc'\n",
    "print(x.count('c'))"
   ]
  },
  {
   "cell_type": "markdown",
   "id": "a7dda800",
   "metadata": {},
   "source": [
    "### 3-replace:"
   ]
  },
  {
   "cell_type": "code",
   "execution_count": 24,
   "id": "54a62f58",
   "metadata": {},
   "outputs": [
    {
     "name": "stdout",
     "output_type": "stream",
     "text": [
      "aBc\n"
     ]
    }
   ],
   "source": [
    "x = 'abc'\n",
    "print(x.replace('b', 'B'))"
   ]
  },
  {
   "cell_type": "markdown",
   "id": "810b7abe",
   "metadata": {},
   "source": [
    "### 4-startswith:"
   ]
  },
  {
   "cell_type": "code",
   "execution_count": 25,
   "id": "cb9165ad",
   "metadata": {},
   "outputs": [
    {
     "name": "stdout",
     "output_type": "stream",
     "text": [
      "True\n"
     ]
    }
   ],
   "source": [
    "x = 'abc'\n",
    "print(x.startswith('ab'))"
   ]
  },
  {
   "cell_type": "markdown",
   "id": "ecd9448e",
   "metadata": {},
   "source": [
    "### 5-endswith:"
   ]
  },
  {
   "cell_type": "code",
   "execution_count": 26,
   "id": "8fb788c7",
   "metadata": {},
   "outputs": [
    {
     "name": "stdout",
     "output_type": "stream",
     "text": [
      "True\n"
     ]
    }
   ],
   "source": [
    "x = 'abc'\n",
    "print(x.endswith(\"bc\"))"
   ]
  },
  {
   "cell_type": "markdown",
   "id": "c18cf1cc",
   "metadata": {},
   "source": [
    "### 6-isdigit:"
   ]
  },
  {
   "cell_type": "code",
   "execution_count": 27,
   "id": "f36f07de",
   "metadata": {},
   "outputs": [
    {
     "name": "stdout",
     "output_type": "stream",
     "text": [
      "True\n"
     ]
    }
   ],
   "source": [
    "x = '123'\n",
    "print(x.isdigit())"
   ]
  },
  {
   "cell_type": "markdown",
   "id": "9b2e37b3",
   "metadata": {},
   "source": [
    "### 7-strip:"
   ]
  },
  {
   "cell_type": "code",
   "execution_count": 28,
   "id": "0a3a63ef",
   "metadata": {},
   "outputs": [
    {
     "name": "stdout",
     "output_type": "stream",
     "text": [
      "abc\n"
     ]
    }
   ],
   "source": [
    "x = '  abc    '\n",
    "print(x.strip())"
   ]
  },
  {
   "cell_type": "markdown",
   "id": "6e0dd192",
   "metadata": {},
   "source": [
    "### 8-lower:"
   ]
  },
  {
   "cell_type": "code",
   "execution_count": 29,
   "id": "4ea71736",
   "metadata": {},
   "outputs": [
    {
     "name": "stdout",
     "output_type": "stream",
     "text": [
      "abc\n"
     ]
    }
   ],
   "source": [
    "x = 'ABC'\n",
    "print(x.lower())"
   ]
  },
  {
   "cell_type": "markdown",
   "id": "21e82bae",
   "metadata": {},
   "source": [
    "### 9-upper:"
   ]
  },
  {
   "cell_type": "code",
   "execution_count": 30,
   "id": "29b703ae",
   "metadata": {},
   "outputs": [
    {
     "name": "stdout",
     "output_type": "stream",
     "text": [
      "ABC\n"
     ]
    }
   ],
   "source": [
    "x = 'abc'\n",
    "print(x.upper())"
   ]
  },
  {
   "cell_type": "markdown",
   "id": "aa23c5f5",
   "metadata": {},
   "source": [
    "### 10-split:"
   ]
  },
  {
   "cell_type": "code",
   "execution_count": 31,
   "id": "0a5a9213",
   "metadata": {},
   "outputs": [
    {
     "name": "stdout",
     "output_type": "stream",
     "text": [
      "['a', 'b', 'c']\n"
     ]
    }
   ],
   "source": [
    "x = 'a b c'\n",
    "print(x.split())"
   ]
  },
  {
   "cell_type": "code",
   "execution_count": 32,
   "id": "a4f6e4f2",
   "metadata": {},
   "outputs": [
    {
     "name": "stdout",
     "output_type": "stream",
     "text": [
      "['a', 'b', 'c']\n"
     ]
    }
   ],
   "source": [
    "x = 'a-b-c'\n",
    "print(x.split('-'))"
   ]
  },
  {
   "cell_type": "markdown",
   "id": "d5976d30",
   "metadata": {},
   "source": [
    "### 11-format:"
   ]
  },
  {
   "cell_type": "code",
   "execution_count": 33,
   "id": "0b904c08",
   "metadata": {},
   "outputs": [
    {
     "name": "stdout",
     "output_type": "stream",
     "text": [
      "a is 6, b is 12 and c = 24\n",
      "a is 6, b is 12 and c = 24\n"
     ]
    }
   ],
   "source": [
    "a = 6\n",
    "b = 12\n",
    "c = 24\n",
    "print(\"a is {}, b is {} and c = {}\".format(a, b, c))\n",
    "print(\"a is {0}, b is {1} and c = {2}\".format(a, b, c))"
   ]
  },
  {
   "cell_type": "code",
   "execution_count": 34,
   "id": "195adadc",
   "metadata": {},
   "outputs": [
    {
     "name": "stdout",
     "output_type": "stream",
     "text": [
      "a is 6, b is 12 and c = 24\n"
     ]
    }
   ],
   "source": [
    "a = 6\n",
    "b = 12\n",
    "c = 24\n",
    "print(f'a is {a}, b is {b} and c = {c}')"
   ]
  },
  {
   "cell_type": "markdown",
   "id": "504b9c97",
   "metadata": {},
   "source": [
    "### 12-join:"
   ]
  },
  {
   "cell_type": "code",
   "execution_count": 35,
   "id": "18429bbb",
   "metadata": {},
   "outputs": [
    {
     "name": "stdout",
     "output_type": "stream",
     "text": [
      "1 + 2 + 3 + 4 + 5\n"
     ]
    }
   ],
   "source": [
    "x = ['1', '2', '3', '4', '5']\n",
    "print(' + '.join(x))"
   ]
  },
  {
   "cell_type": "code",
   "execution_count": 36,
   "id": "3fef4a44",
   "metadata": {},
   "outputs": [
    {
     "name": "stdout",
     "output_type": "stream",
     "text": [
      "Nader, Samira, Keyvan, Nilofar\n"
     ]
    }
   ],
   "source": [
    "x = ['Nader', 'Samira', 'Keyvan', 'Nilofar']\n",
    "print(', '.join(x))"
   ]
  },
  {
   "cell_type": "code",
   "execution_count": 37,
   "id": "e7514efb",
   "metadata": {},
   "outputs": [
    {
     "name": "stdout",
     "output_type": "stream",
     "text": [
      "Nader\n",
      "Samira\n",
      "Keyvan\n",
      "Nilofar\n"
     ]
    }
   ],
   "source": [
    "x = ['Nader', 'Samira', 'Keyvan', 'Nilofar']\n",
    "print('\\n'.join(x))"
   ]
  },
  {
   "cell_type": "markdown",
   "id": "c457053c",
   "metadata": {},
   "source": [
    "## -Index:"
   ]
  },
  {
   "cell_type": "code",
   "execution_count": 38,
   "id": "c381ebbf",
   "metadata": {},
   "outputs": [
    {
     "name": "stdout",
     "output_type": "stream",
     "text": [
      "5 7 3\n"
     ]
    }
   ],
   "source": [
    "x = [5, 7, 3]\n",
    "print(x[0], x[1], x[2])"
   ]
  },
  {
   "cell_type": "code",
   "execution_count": 39,
   "id": "fcc272fa",
   "metadata": {},
   "outputs": [
    {
     "name": "stdout",
     "output_type": "stream",
     "text": [
      "3 7 5\n"
     ]
    }
   ],
   "source": [
    "x = [5, 7, 3]\n",
    "print(x[-1], x[-2], x[-3])"
   ]
  },
  {
   "cell_type": "markdown",
   "id": "0f21dcc8",
   "metadata": {},
   "source": [
    "## -Slices:"
   ]
  },
  {
   "cell_type": "code",
   "execution_count": 40,
   "id": "bf12c789",
   "metadata": {},
   "outputs": [
    {
     "name": "stdout",
     "output_type": "stream",
     "text": [
      "[3, 7]\n"
     ]
    }
   ],
   "source": [
    "x = [5, 3, 7, 8, 9]\n",
    "print(x[1:3])"
   ]
  },
  {
   "cell_type": "code",
   "execution_count": 41,
   "id": "8f1b50bd",
   "metadata": {},
   "outputs": [
    {
     "name": "stdout",
     "output_type": "stream",
     "text": [
      "[5, 3, 7]\n"
     ]
    }
   ],
   "source": [
    "x = [5, 3, 7, 8, 9]\n",
    "print(x[:3])"
   ]
  },
  {
   "cell_type": "code",
   "execution_count": 42,
   "id": "324dd3c8",
   "metadata": {},
   "outputs": [
    {
     "name": "stdout",
     "output_type": "stream",
     "text": [
      "[7, 8, 9]\n"
     ]
    }
   ],
   "source": [
    "x = [5, 3, 7, 8, 9]\n",
    "print(x[2:])"
   ]
  },
  {
   "cell_type": "code",
   "execution_count": 43,
   "id": "f4ceac47",
   "metadata": {},
   "outputs": [
    {
     "name": "stdout",
     "output_type": "stream",
     "text": [
      "[5, 3, 7, 8, 9]\n"
     ]
    }
   ],
   "source": [
    "x = [5, 3, 7, 8, 9]\n",
    "print(x[:])"
   ]
  },
  {
   "cell_type": "code",
   "execution_count": 44,
   "id": "c6d05544",
   "metadata": {},
   "outputs": [
    {
     "name": "stdout",
     "output_type": "stream",
     "text": [
      "[5, 7, 9]\n"
     ]
    }
   ],
   "source": [
    "x = [5, 3, 7, 8, 9]\n",
    "print(x[0:5:2])"
   ]
  },
  {
   "cell_type": "code",
   "execution_count": 45,
   "id": "e1eb0e00",
   "metadata": {},
   "outputs": [
    {
     "name": "stdout",
     "output_type": "stream",
     "text": [
      "[5, 7, 9]\n"
     ]
    }
   ],
   "source": [
    "x = [5, 3, 7, 8, 9]\n",
    "print(x[0::2])"
   ]
  },
  {
   "cell_type": "code",
   "execution_count": 46,
   "id": "3d8b7749",
   "metadata": {},
   "outputs": [
    {
     "name": "stdout",
     "output_type": "stream",
     "text": [
      "[9, 8]\n"
     ]
    }
   ],
   "source": [
    "x = [5, 3, 7, 8, 9]\n",
    "print(x[-1:-3:-1])"
   ]
  },
  {
   "cell_type": "code",
   "execution_count": 47,
   "id": "4c415d51",
   "metadata": {},
   "outputs": [
    {
     "name": "stdout",
     "output_type": "stream",
     "text": [
      "[9, 8, 7, 3, 5]\n"
     ]
    }
   ],
   "source": [
    "x = [5, 3, 7, 8, 9]\n",
    "print(x[::-1])"
   ]
  },
  {
   "cell_type": "markdown",
   "id": "40a918c4",
   "metadata": {},
   "source": [
    "## -Homeworks:\n",
    "#### 1-Palindrome words\n",
    "#### 2-Cut the title in name (example: Braund, Mr. Owen Harris -> cut Mr )"
   ]
  }
 ],
 "metadata": {
  "kernelspec": {
   "display_name": "Python 3 (ipykernel)",
   "language": "python",
   "name": "python3"
  },
  "language_info": {
   "codemirror_mode": {
    "name": "ipython",
    "version": 3
   },
   "file_extension": ".py",
   "mimetype": "text/x-python",
   "name": "python",
   "nbconvert_exporter": "python",
   "pygments_lexer": "ipython3",
   "version": "3.8.5"
  }
 },
 "nbformat": 4,
 "nbformat_minor": 5
}
