{
 "cells": [
  {
   "cell_type": "markdown",
   "id": "9f2fc3f6",
   "metadata": {},
   "source": [
    "# Lesson five"
   ]
  },
  {
   "cell_type": "markdown",
   "id": "d6c6d694",
   "metadata": {},
   "source": [
    "## -Sets in Python:\n",
    "#### 1-They are unic\n",
    "#### 2-They have no order or index\n",
    "#### 3-They have a high recovery speed (using hash table)\n",
    "#### 4-Only immutables can be used in the set"
   ]
  },
  {
   "cell_type": "markdown",
   "id": "6de52064",
   "metadata": {},
   "source": [
    "## -Defining sets:"
   ]
  },
  {
   "cell_type": "code",
   "execution_count": 1,
   "id": "ba4c8a8d",
   "metadata": {},
   "outputs": [],
   "source": [
    "# the only way when we want empty set:\n",
    "x = set()"
   ]
  },
  {
   "cell_type": "code",
   "execution_count": 2,
   "id": "f41a2edc",
   "metadata": {},
   "outputs": [],
   "source": [
    "# another way with elements:\n",
    "x = {1, 2, 3, 4, 5}"
   ]
  },
  {
   "cell_type": "markdown",
   "id": "e998a2a5",
   "metadata": {},
   "source": [
    "### -Union:"
   ]
  },
  {
   "cell_type": "code",
   "execution_count": 3,
   "id": "be356415",
   "metadata": {},
   "outputs": [
    {
     "name": "stdout",
     "output_type": "stream",
     "text": [
      "{2, 3, 4}\n"
     ]
    }
   ],
   "source": [
    "x = {2, 3}\n",
    "x.add(4)\n",
    "x.add(3)\n",
    "print(x)"
   ]
  },
  {
   "cell_type": "markdown",
   "id": "7eac57b1",
   "metadata": {},
   "source": [
    "### -No index:"
   ]
  },
  {
   "cell_type": "code",
   "execution_count": 4,
   "id": "d92c977f",
   "metadata": {},
   "outputs": [
    {
     "ename": "TypeError",
     "evalue": "'set' object is not subscriptable",
     "output_type": "error",
     "traceback": [
      "\u001b[0;31m---------------------------------------------------------------------------\u001b[0m",
      "\u001b[0;31mTypeError\u001b[0m                                 Traceback (most recent call last)",
      "\u001b[0;32m/var/folders/fy/9rkrxfls6hd0vfkt0r0q66z40000gn/T/ipykernel_2289/2402339430.py\u001b[0m in \u001b[0;36m<module>\u001b[0;34m\u001b[0m\n\u001b[1;32m      1\u001b[0m \u001b[0mx\u001b[0m \u001b[0;34m=\u001b[0m \u001b[0;34m{\u001b[0m\u001b[0;36m2\u001b[0m\u001b[0;34m,\u001b[0m \u001b[0;36m3\u001b[0m\u001b[0;34m,\u001b[0m \u001b[0;36m4\u001b[0m\u001b[0;34m}\u001b[0m\u001b[0;34m\u001b[0m\u001b[0;34m\u001b[0m\u001b[0m\n\u001b[0;32m----> 2\u001b[0;31m \u001b[0mprint\u001b[0m\u001b[0;34m(\u001b[0m\u001b[0mx\u001b[0m\u001b[0;34m[\u001b[0m\u001b[0;36m1\u001b[0m\u001b[0;34m]\u001b[0m\u001b[0;34m)\u001b[0m\u001b[0;34m\u001b[0m\u001b[0;34m\u001b[0m\u001b[0m\n\u001b[0m",
      "\u001b[0;31mTypeError\u001b[0m: 'set' object is not subscriptable"
     ]
    }
   ],
   "source": [
    "x = {2, 3, 4}\n",
    "print(x[1])"
   ]
  },
  {
   "cell_type": "markdown",
   "id": "5dd6c45b",
   "metadata": {},
   "source": [
    "### -They look like a bag of money:"
   ]
  },
  {
   "cell_type": "code",
   "execution_count": 5,
   "id": "9512e09c",
   "metadata": {},
   "outputs": [
    {
     "name": "stdout",
     "output_type": "stream",
     "text": [
      "3\n"
     ]
    }
   ],
   "source": [
    "x = {2, 3, 4}\n",
    "print(len(x))"
   ]
  },
  {
   "cell_type": "code",
   "execution_count": 6,
   "id": "27833b64",
   "metadata": {},
   "outputs": [
    {
     "name": "stdout",
     "output_type": "stream",
     "text": [
      "True\n"
     ]
    }
   ],
   "source": [
    "x = {2, 3, 4}\n",
    "print(2 in x)"
   ]
  },
  {
   "cell_type": "code",
   "execution_count": 7,
   "id": "ed1994c0",
   "metadata": {},
   "outputs": [
    {
     "name": "stdout",
     "output_type": "stream",
     "text": [
      "2\n",
      "3\n",
      "4\n"
     ]
    }
   ],
   "source": [
    "x = {2, 3, 4}\n",
    "for i in x:\n",
    "    print(i)"
   ]
  },
  {
   "cell_type": "code",
   "execution_count": 8,
   "id": "e3206b82",
   "metadata": {},
   "outputs": [
    {
     "name": "stdout",
     "output_type": "stream",
     "text": [
      "0\n",
      "1\n",
      "2\n"
     ]
    }
   ],
   "source": [
    "x = {2, 3, 4}\n",
    "for i in range(len(x)):\n",
    "    print(i)"
   ]
  },
  {
   "cell_type": "markdown",
   "id": "96689022",
   "metadata": {},
   "source": [
    "## -Sets Functions:"
   ]
  },
  {
   "cell_type": "markdown",
   "id": "85d7a2e2",
   "metadata": {},
   "source": [
    "### 1-union:"
   ]
  },
  {
   "cell_type": "code",
   "execution_count": 9,
   "id": "e7d75b23",
   "metadata": {},
   "outputs": [
    {
     "name": "stdout",
     "output_type": "stream",
     "text": [
      "{'a', 'b', 'c'}\n",
      "{'a', 'b', 'c'}\n"
     ]
    }
   ],
   "source": [
    "x = {'a', 'b'}\n",
    "y = {'b', 'c'}\n",
    "print(x.union(y))\n",
    "print(x | y)"
   ]
  },
  {
   "cell_type": "markdown",
   "id": "3786f483",
   "metadata": {},
   "source": [
    "### 2-intersection:"
   ]
  },
  {
   "cell_type": "code",
   "execution_count": 10,
   "id": "5deff4f3",
   "metadata": {},
   "outputs": [
    {
     "name": "stdout",
     "output_type": "stream",
     "text": [
      "{'b'}\n",
      "{'b'}\n"
     ]
    }
   ],
   "source": [
    "x = {'a', 'b'}\n",
    "y = {'b', 'c'}\n",
    "print(x.intersection(y))\n",
    "print(x & y)"
   ]
  },
  {
   "cell_type": "markdown",
   "id": "a69620bf",
   "metadata": {},
   "source": [
    "### 3-issubset:"
   ]
  },
  {
   "cell_type": "code",
   "execution_count": 11,
   "id": "51c5cd57",
   "metadata": {},
   "outputs": [
    {
     "name": "stdout",
     "output_type": "stream",
     "text": [
      "False\n",
      "False\n"
     ]
    }
   ],
   "source": [
    "x = {'a', 'b'}\n",
    "y = {'b', 'c'}\n",
    "print(x.issubset(y))\n",
    "print(x < y)"
   ]
  },
  {
   "cell_type": "markdown",
   "id": "88ed44d5",
   "metadata": {},
   "source": [
    "### 4-difference:"
   ]
  },
  {
   "cell_type": "code",
   "execution_count": 12,
   "id": "81a1c67e",
   "metadata": {},
   "outputs": [
    {
     "name": "stdout",
     "output_type": "stream",
     "text": [
      "{'a'}\n",
      "{'a'}\n"
     ]
    }
   ],
   "source": [
    "x = {'a', 'b'}\n",
    "y = {'b', 'c'}\n",
    "print(x.difference(y))\n",
    "print(x - y)"
   ]
  },
  {
   "cell_type": "markdown",
   "id": "69e5048d",
   "metadata": {},
   "source": [
    "### 5-discard:"
   ]
  },
  {
   "cell_type": "code",
   "execution_count": 13,
   "id": "d82d72a8",
   "metadata": {},
   "outputs": [
    {
     "name": "stdout",
     "output_type": "stream",
     "text": [
      "{'b'}\n"
     ]
    }
   ],
   "source": [
    "x = {'a', 'b'}\n",
    "y = {'b', 'c'}\n",
    "x.discard('a')\n",
    "print(x)"
   ]
  },
  {
   "cell_type": "markdown",
   "id": "ab8f45ba",
   "metadata": {},
   "source": [
    "### 6-pop:"
   ]
  },
  {
   "cell_type": "code",
   "execution_count": 14,
   "id": "ad8c45d6",
   "metadata": {},
   "outputs": [
    {
     "name": "stdout",
     "output_type": "stream",
     "text": [
      "a\n",
      "{'b'}\n"
     ]
    }
   ],
   "source": [
    "x = {'a', 'b'}\n",
    "y = {'b', 'c'}\n",
    "print(x.pop())\n",
    "print(x)"
   ]
  },
  {
   "cell_type": "markdown",
   "id": "3751ce2f",
   "metadata": {},
   "source": [
    "### 7-isdisjoint:"
   ]
  },
  {
   "cell_type": "code",
   "execution_count": 15,
   "id": "828cb6f1",
   "metadata": {},
   "outputs": [
    {
     "name": "stdout",
     "output_type": "stream",
     "text": [
      "False\n"
     ]
    }
   ],
   "source": [
    "x = {'a', 'b'}\n",
    "y = {'b', 'c'}\n",
    "print(x.isdisjoint(y))"
   ]
  },
  {
   "cell_type": "code",
   "execution_count": 16,
   "id": "e6df58e3",
   "metadata": {},
   "outputs": [
    {
     "name": "stdout",
     "output_type": "stream",
     "text": [
      "True\n"
     ]
    }
   ],
   "source": [
    "x = {'a', 'k'}\n",
    "y = {'b', 'c'}\n",
    "print(x.isdisjoint(y))"
   ]
  },
  {
   "cell_type": "markdown",
   "id": "1136db00",
   "metadata": {},
   "source": [
    "## -Dictionaries in Python:\n",
    "#### 1-Pattern -> {key: value, key: value, key: value}\n",
    "#### 2-Keys are immutable\n",
    "#### 3-Values are anything\n",
    "#### 4-They have no order or index\n",
    "#### 5-They have a high recovery speed (using hash table)"
   ]
  },
  {
   "cell_type": "markdown",
   "id": "bc882025",
   "metadata": {},
   "source": [
    "## -Defining Dicts:"
   ]
  },
  {
   "cell_type": "code",
   "execution_count": 17,
   "id": "93ff8a28",
   "metadata": {},
   "outputs": [],
   "source": [
    "# standard way:\n",
    "x = dict()"
   ]
  },
  {
   "cell_type": "code",
   "execution_count": 18,
   "id": "2ff49bb1",
   "metadata": {},
   "outputs": [],
   "source": [
    "# shortcut way:\n",
    "x = {}"
   ]
  },
  {
   "cell_type": "code",
   "execution_count": 19,
   "id": "98c1f90d",
   "metadata": {},
   "outputs": [
    {
     "name": "stdout",
     "output_type": "stream",
     "text": [
      "{'literature': 19, 'math': 17, 'physics': 20}\n"
     ]
    }
   ],
   "source": [
    "# with elements:\n",
    "x = {\"literature\": 19, \"math\": 17, \"physics\": 20}\n",
    "print(x)"
   ]
  },
  {
   "cell_type": "markdown",
   "id": "0fc1b61c",
   "metadata": {},
   "source": [
    "## -Access to elements:"
   ]
  },
  {
   "cell_type": "code",
   "execution_count": 20,
   "id": "62419b48",
   "metadata": {},
   "outputs": [
    {
     "name": "stdout",
     "output_type": "stream",
     "text": [
      "17\n"
     ]
    }
   ],
   "source": [
    "x = {\"literature\": 19, \"math\": 17, \"physics\": 20}\n",
    "print(x['math'])"
   ]
  },
  {
   "cell_type": "markdown",
   "id": "c294d910",
   "metadata": {},
   "source": [
    "## -Editing:"
   ]
  },
  {
   "cell_type": "code",
   "execution_count": 21,
   "id": "b5d42021",
   "metadata": {},
   "outputs": [
    {
     "name": "stdout",
     "output_type": "stream",
     "text": [
      "{'literature': 19, 'math': 20, 'physics': 20}\n"
     ]
    }
   ],
   "source": [
    "x = {\"literature\": 19, \"math\": 17, \"physics\": 20}\n",
    "x[\"math\"] = 20\n",
    "print(x)"
   ]
  },
  {
   "cell_type": "markdown",
   "id": "3f1ff368",
   "metadata": {},
   "source": [
    "## -Adding:"
   ]
  },
  {
   "cell_type": "code",
   "execution_count": 22,
   "id": "af2a913f",
   "metadata": {},
   "outputs": [
    {
     "name": "stdout",
     "output_type": "stream",
     "text": [
      "{'literature': 19, 'math': 17, 'physics': 20, 'Psychology': 15}\n"
     ]
    }
   ],
   "source": [
    "x = {\"literature\": 19, \"math\": 17, \"physics\": 20}\n",
    "x[\"Psychology\"] = 15\n",
    "print(x)"
   ]
  },
  {
   "cell_type": "markdown",
   "id": "364ccd78",
   "metadata": {},
   "source": [
    "## -Dicts with for loops:"
   ]
  },
  {
   "cell_type": "markdown",
   "id": "7d3eec2e",
   "metadata": {},
   "source": [
    "### -Keys:"
   ]
  },
  {
   "cell_type": "code",
   "execution_count": 23,
   "id": "c0d0c652",
   "metadata": {},
   "outputs": [
    {
     "name": "stdout",
     "output_type": "stream",
     "text": [
      "literature\n",
      "math\n",
      "physics\n"
     ]
    }
   ],
   "source": [
    "x = {\"literature\": 19, \"math\": 17, \"physics\": 20}\n",
    "# defualt in keys:\n",
    "for i in x:\n",
    "    print(i)"
   ]
  },
  {
   "cell_type": "code",
   "execution_count": 24,
   "id": "f48bfc1c",
   "metadata": {},
   "outputs": [
    {
     "name": "stdout",
     "output_type": "stream",
     "text": [
      "literature\n",
      "math\n",
      "physics\n"
     ]
    }
   ],
   "source": [
    "# another way:\n",
    "x = {\"literature\": 19, \"math\": 17, \"physics\": 20}\n",
    "for i in x.keys():\n",
    "    print(i)"
   ]
  },
  {
   "cell_type": "markdown",
   "id": "5f90019d",
   "metadata": {},
   "source": [
    "### -Values:"
   ]
  },
  {
   "cell_type": "code",
   "execution_count": 25,
   "id": "b3702011",
   "metadata": {},
   "outputs": [
    {
     "name": "stdout",
     "output_type": "stream",
     "text": [
      "19\n",
      "17\n",
      "20\n"
     ]
    }
   ],
   "source": [
    "x = {\"literature\": 19, \"math\": 17, \"physics\": 20}\n",
    "for i in x.values():\n",
    "    print(i)"
   ]
  },
  {
   "cell_type": "markdown",
   "id": "75b31ef7",
   "metadata": {},
   "source": [
    "### -Both:"
   ]
  },
  {
   "cell_type": "code",
   "execution_count": 26,
   "id": "7b12c7b6",
   "metadata": {},
   "outputs": [
    {
     "name": "stdout",
     "output_type": "stream",
     "text": [
      "literature = 19\n",
      "math = 17\n",
      "physics = 20\n"
     ]
    }
   ],
   "source": [
    "x = {\"literature\": 19, \"math\": 17, \"physics\": 20}\n",
    "for k, v in x.items():\n",
    "    print(f'{k} = {v}')"
   ]
  },
  {
   "cell_type": "markdown",
   "id": "598fe7b2",
   "metadata": {},
   "source": [
    "### -get( ) Function in dicts:"
   ]
  },
  {
   "cell_type": "code",
   "execution_count": 27,
   "id": "46092b3c",
   "metadata": {},
   "outputs": [
    {
     "name": "stdout",
     "output_type": "stream",
     "text": [
      "{'literature': 2, 'math': 2, 'physics': 2, 'biology': 1, 'geology': 1, 'geometry': 1, 'statistics': 1}\n"
     ]
    }
   ],
   "source": [
    "x = {\"literature\": 1, \"math\": 1, \"physics\": 1}\n",
    "lessons = ['biology', 'math', 'geology', 'literature', 'physics', 'geometry', 'statistics']\n",
    "\n",
    "for i in lessons:\n",
    "    x[i] = x.get(i, 0) + 1\n",
    "    \n",
    "print(x)"
   ]
  },
  {
   "cell_type": "markdown",
   "id": "b5ed9c99",
   "metadata": {},
   "source": [
    "## -Homeworks:\n",
    "#### 1-google search\n",
    "#### 2-kattis dice cup\n",
    "#### 3-report card"
   ]
  }
 ],
 "metadata": {
  "kernelspec": {
   "display_name": "Python 3 (ipykernel)",
   "language": "python",
   "name": "python3"
  },
  "language_info": {
   "codemirror_mode": {
    "name": "ipython",
    "version": 3
   },
   "file_extension": ".py",
   "mimetype": "text/x-python",
   "name": "python",
   "nbconvert_exporter": "python",
   "pygments_lexer": "ipython3",
   "version": "3.8.5"
  }
 },
 "nbformat": 4,
 "nbformat_minor": 5
}
