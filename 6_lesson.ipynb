{
 "cells": [
  {
   "cell_type": "markdown",
   "id": "05f90502",
   "metadata": {},
   "source": [
    "# Lesson six"
   ]
  },
  {
   "cell_type": "markdown",
   "id": "54e1b3ca",
   "metadata": {},
   "source": [
    "## -end and sep parameters of print Function:"
   ]
  },
  {
   "cell_type": "code",
   "execution_count": 1,
   "id": "111ffb08",
   "metadata": {},
   "outputs": [
    {
     "name": "stdout",
     "output_type": "stream",
     "text": [
      "python-is-beautiful-language\n"
     ]
    }
   ],
   "source": [
    "# default sep = ' '\n",
    "print(\"python\", \"is\", \"beautiful\", \"language\", sep=\"-\")"
   ]
  },
  {
   "cell_type": "code",
   "execution_count": 2,
   "id": "54cd304a",
   "metadata": {},
   "outputs": [
    {
     "name": "stdout",
     "output_type": "stream",
     "text": [
      "python is\tbeautiful language\n"
     ]
    }
   ],
   "source": [
    "# default end = '\\n'\n",
    "print('python', end=' ')\n",
    "print('is', end='\\t')\n",
    "print('beautiful', end=' ')\n",
    "print('language')"
   ]
  },
  {
   "cell_type": "markdown",
   "id": "c185925f",
   "metadata": {},
   "source": [
    "## -2D Lists:"
   ]
  },
  {
   "cell_type": "code",
   "execution_count": 3,
   "id": "a59b4a96",
   "metadata": {},
   "outputs": [
    {
     "name": "stdout",
     "output_type": "stream",
     "text": [
      "# # # # # # # # # # \n",
      "# # # # # # # # # # \n",
      "# # # # # # # # # # \n",
      "# # # # # # # # # # \n",
      "# # # # # # # # # # \n"
     ]
    }
   ],
   "source": [
    "for i in range(5):\n",
    "    for j in range(10):\n",
    "        print('#', end=' ')\n",
    "    print()"
   ]
  },
  {
   "cell_type": "code",
   "execution_count": 4,
   "id": "33d87464",
   "metadata": {},
   "outputs": [
    {
     "name": "stdout",
     "output_type": "stream",
     "text": [
      "1 \n",
      "1 2 \n",
      "1 2 3 \n"
     ]
    }
   ],
   "source": [
    "for i in range(3):\n",
    "    for j in range(1, i + 2):\n",
    "        print(j, end=' ')\n",
    "    print()\n",
    "    \n",
    "# n(n + 1) / 2 -> 3(3 + 1) / 2 = 6"
   ]
  },
  {
   "cell_type": "markdown",
   "id": "cd1efcbd",
   "metadata": {},
   "source": [
    "### -Multiplication table:"
   ]
  },
  {
   "cell_type": "code",
   "execution_count": 5,
   "id": "a299d951",
   "metadata": {},
   "outputs": [
    {
     "name": "stdout",
     "output_type": "stream",
     "text": [
      "1\t2\t3\t4\t5\t6\t7\t8\t9\t10\t\n",
      "2\t4\t6\t8\t10\t12\t14\t16\t18\t20\t\n",
      "3\t6\t9\t12\t15\t18\t21\t24\t27\t30\t\n",
      "4\t8\t12\t16\t20\t24\t28\t32\t36\t40\t\n",
      "5\t10\t15\t20\t25\t30\t35\t40\t45\t50\t\n",
      "6\t12\t18\t24\t30\t36\t42\t48\t54\t60\t\n",
      "7\t14\t21\t28\t35\t42\t49\t56\t63\t70\t\n",
      "8\t16\t24\t32\t40\t48\t56\t64\t72\t80\t\n",
      "9\t18\t27\t36\t45\t54\t63\t72\t81\t90\t\n",
      "10\t20\t30\t40\t50\t60\t70\t80\t90\t100\t\n"
     ]
    }
   ],
   "source": [
    "for i in range(1, 11):\n",
    "    for j in range(1, 11):\n",
    "        print(i * j, end='\\t')\n",
    "    print()"
   ]
  },
  {
   "cell_type": "markdown",
   "id": "42b29af4",
   "metadata": {},
   "source": [
    "### -Shape of two-dimensional lists:"
   ]
  },
  {
   "cell_type": "code",
   "execution_count": 6,
   "id": "12aa2afd",
   "metadata": {},
   "outputs": [
    {
     "name": "stdout",
     "output_type": "stream",
     "text": [
      "[1, 2]\n"
     ]
    }
   ],
   "source": [
    "x = [[1, 2], [3, 4]]\n",
    "print(x[0])"
   ]
  },
  {
   "cell_type": "code",
   "execution_count": 7,
   "id": "6c12c6b1",
   "metadata": {},
   "outputs": [
    {
     "name": "stdout",
     "output_type": "stream",
     "text": [
      "2\n"
     ]
    }
   ],
   "source": [
    "x = [[1, 2], [3, 4]]\n",
    "print(x[0][1])"
   ]
  },
  {
   "cell_type": "markdown",
   "id": "6ee45620",
   "metadata": {},
   "source": [
    "### -Matrix:"
   ]
  },
  {
   "cell_type": "code",
   "execution_count": 8,
   "id": "53063ae5",
   "metadata": {},
   "outputs": [
    {
     "name": "stdout",
     "output_type": "stream",
     "text": [
      "[[1, 2, 3], [4, 5, 6], [7, 8, 9]]\n"
     ]
    }
   ],
   "source": [
    "m = [[1, 2, 3],\n",
    "     [4, 5, 6],\n",
    "     [7, 8, 9]]\n",
    "\n",
    "print(m)"
   ]
  },
  {
   "cell_type": "markdown",
   "id": "d1b53a55",
   "metadata": {},
   "source": [
    "### -Exercise:\n",
    "#### -Take 2x3 matrix from user and print like matrix shape:"
   ]
  },
  {
   "cell_type": "code",
   "execution_count": 9,
   "id": "fda406b7",
   "metadata": {},
   "outputs": [
    {
     "name": "stdout",
     "output_type": "stream",
     "text": [
      "1\n",
      "0\n",
      "1\n",
      "0\n",
      "1\n",
      "0\n",
      "[1, 0, 1]\n",
      "[0, 1, 0]\n"
     ]
    }
   ],
   "source": [
    "m = []\n",
    "for i in range(2):\n",
    "    temp = []\n",
    "    for j in range(3):\n",
    "        x = int(input())\n",
    "        temp.append(x)\n",
    "    m.append(temp)\n",
    "    \n",
    "for i in m:\n",
    "    print(i)"
   ]
  },
  {
   "cell_type": "markdown",
   "id": "5a7e5ccc",
   "metadata": {},
   "source": [
    "### -Pyramid of stars:"
   ]
  },
  {
   "cell_type": "code",
   "execution_count": 10,
   "id": "0609e30b",
   "metadata": {},
   "outputs": [
    {
     "name": "stdout",
     "output_type": "stream",
     "text": [
      "    *\n",
      "   ***\n",
      "  *****\n",
      " *******\n",
      "*********\n"
     ]
    }
   ],
   "source": [
    "n = 5\n",
    "for i in range(n):\n",
    "    print(' ' * (n-i-1), end='')\n",
    "    for j in range(2*i+1):\n",
    "        print('*', end='')\n",
    "    print()"
   ]
  },
  {
   "cell_type": "markdown",
   "id": "929ba5ce",
   "metadata": {},
   "source": [
    "## -Homeworks:\n",
    "#### 1-transpose\n",
    "#### 2-sum of row and col"
   ]
  }
 ],
 "metadata": {
  "kernelspec": {
   "display_name": "Python 3 (ipykernel)",
   "language": "python",
   "name": "python3"
  },
  "language_info": {
   "codemirror_mode": {
    "name": "ipython",
    "version": 3
   },
   "file_extension": ".py",
   "mimetype": "text/x-python",
   "name": "python",
   "nbconvert_exporter": "python",
   "pygments_lexer": "ipython3",
   "version": "3.8.5"
  }
 },
 "nbformat": 4,
 "nbformat_minor": 5
}
