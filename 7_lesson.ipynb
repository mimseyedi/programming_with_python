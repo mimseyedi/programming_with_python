{
 "cells": [
  {
   "cell_type": "markdown",
   "id": "c5d0c429",
   "metadata": {},
   "source": [
    "# Lesson seven"
   ]
  },
  {
   "cell_type": "markdown",
   "id": "59dc517a",
   "metadata": {},
   "source": [
    "## -Object Oriented Programming (Class):"
   ]
  },
  {
   "cell_type": "markdown",
   "id": "e65d0936",
   "metadata": {},
   "source": [
    "<img src=\"instance_class.png\">"
   ]
  },
  {
   "cell_type": "markdown",
   "id": "810fa4b6",
   "metadata": {},
   "source": [
    "## -Example 1:"
   ]
  },
  {
   "cell_type": "markdown",
   "id": "91b48f8b",
   "metadata": {},
   "source": [
    "<img src=\"oop_cat.png\">"
   ]
  },
  {
   "cell_type": "markdown",
   "id": "aa37ba88",
   "metadata": {},
   "source": [
    "## -Example 2:"
   ]
  },
  {
   "cell_type": "markdown",
   "id": "3c2347c4",
   "metadata": {},
   "source": [
    "<img src=\"oop_cook.png\">"
   ]
  },
  {
   "cell_type": "markdown",
   "id": "e412b6b5",
   "metadata": {},
   "source": [
    "## -Shortcuts Translate:"
   ]
  },
  {
   "cell_type": "code",
   "execution_count": 1,
   "id": "404d4d7d",
   "metadata": {},
   "outputs": [],
   "source": [
    "x = [] # -> x = list()\n",
    "x = {} # -> x = dict()\n",
    "x = 'Python' # -> x = str(\"Python\")\n",
    "x = 5 # -> x = int(5)"
   ]
  },
  {
   "cell_type": "markdown",
   "id": "c51bcce0",
   "metadata": {},
   "source": [
    "## -Class building:"
   ]
  },
  {
   "cell_type": "markdown",
   "id": "d2571b57",
   "metadata": {},
   "source": [
    "<img src=\"class.png\">"
   ]
  },
  {
   "cell_type": "markdown",
   "id": "7d97c88a",
   "metadata": {},
   "source": [
    "## -Rectangle Class:"
   ]
  },
  {
   "cell_type": "markdown",
   "id": "2bf45723",
   "metadata": {},
   "source": [
    "<img src=\"rec_class.png\">"
   ]
  },
  {
   "cell_type": "markdown",
   "id": "163a91da",
   "metadata": {},
   "source": [
    "## -init Method:"
   ]
  },
  {
   "cell_type": "code",
   "execution_count": 2,
   "id": "ccb86fbf",
   "metadata": {},
   "outputs": [],
   "source": [
    "class Rectangle:\n",
    "    def __init__(self, w, h):\n",
    "        self.width = w\n",
    "        self.height = h"
   ]
  },
  {
   "cell_type": "markdown",
   "id": "102b3daa",
   "metadata": {},
   "source": [
    "## -Rectangle Class With Method:"
   ]
  },
  {
   "cell_type": "code",
   "execution_count": 3,
   "id": "4399e6df",
   "metadata": {},
   "outputs": [],
   "source": [
    "class Rectangle:\n",
    "    def __init__(self, w, h):\n",
    "        self.width = w\n",
    "        self.height = h\n",
    "        \n",
    "    def perimeter(self):\n",
    "        return self.width * self.height\n",
    "    \n",
    "    def area(self):\n",
    "        return (self.width + self.height) * 2"
   ]
  },
  {
   "cell_type": "markdown",
   "id": "3f8a0f12",
   "metadata": {},
   "source": [
    "## -What is self parameter?"
   ]
  },
  {
   "cell_type": "markdown",
   "id": "007b4000",
   "metadata": {},
   "source": [
    "#### -The self parameter points to the desired instance.\n",
    "#### -Using the self parameter, we differentiate instances because each instance has its own properties.\n",
    "#### -Without the self parameter, all instances have a common memory."
   ]
  },
  {
   "cell_type": "markdown",
   "id": "e2b5d41a",
   "metadata": {},
   "source": [
    "## -Create Instance:"
   ]
  },
  {
   "cell_type": "code",
   "execution_count": 4,
   "id": "b425f751",
   "metadata": {},
   "outputs": [
    {
     "name": "stdout",
     "output_type": "stream",
     "text": [
      "Rectangle1 Width: 5\n",
      "Rectangle1 Height: 3\n",
      "Rectangle1 Perimeter: 15\n",
      "Rectangle1 Area: 16\n",
      "-----------------------------------\n",
      "Rectangle2 Width: 6\n",
      "Rectangle2 Height: 4\n",
      "Rectangle2 Perimeter: 24\n",
      "Rectangle2 Area: 20\n"
     ]
    }
   ],
   "source": [
    "class Rectangle:\n",
    "    def __init__(self, w, h):\n",
    "        self.width = w\n",
    "        self.height = h\n",
    "        \n",
    "    def perimeter(self):\n",
    "        return self.width * self.height\n",
    "    \n",
    "    def area(self):\n",
    "        return (self.width + self.height) * 2\n",
    "    \n",
    "rec1 = Rectangle(5, 3)\n",
    "print(f\"Rectangle1 Width: {rec1.width}\")\n",
    "print(f\"Rectangle1 Height: {rec1.height}\")\n",
    "print(f\"Rectangle1 Perimeter: {rec1.perimeter()}\")\n",
    "print(f\"Rectangle1 Area: {rec1.area()}\")\n",
    "\n",
    "print('-----------------------------------')\n",
    "\n",
    "rec2 = Rectangle(6, 4)\n",
    "print(f\"Rectangle2 Width: {rec2.width}\")\n",
    "print(f\"Rectangle2 Height: {rec2.height}\")\n",
    "print(f\"Rectangle2 Perimeter: {rec2.perimeter()}\")\n",
    "print(f\"Rectangle2 Area: {rec2.area()}\")\n"
   ]
  },
  {
   "cell_type": "markdown",
   "id": "a9839726",
   "metadata": {},
   "source": [
    "## -Magic Methods:"
   ]
  },
  {
   "cell_type": "markdown",
   "id": "f8744a51",
   "metadata": {},
   "source": [
    "### 1- __ str __:"
   ]
  },
  {
   "cell_type": "code",
   "execution_count": 5,
   "id": "a48bba02",
   "metadata": {},
   "outputs": [
    {
     "name": "stdout",
     "output_type": "stream",
     "text": [
      "Rectangles width and height is 5, 3\n",
      "Rectangles width and height is 4, 6\n"
     ]
    }
   ],
   "source": [
    "class Rectangle:\n",
    "    def __init__(self, w, h):\n",
    "        self.width = w\n",
    "        self.height = h\n",
    "        \n",
    "    def perimeter(self):\n",
    "        return self.width * self.height\n",
    "    \n",
    "    def area(self):\n",
    "        return (self.width + self.height) * 2\n",
    "    \n",
    "    def __str__(self):\n",
    "        return f\"Rectangles width and height is {self.width}, {self.height}\"\n",
    "    \n",
    "rec1 = Rectangle(5, 3)\n",
    "print(rec1)\n",
    "\n",
    "rec2 = Rectangle(4, 6)\n",
    "print(rec2)"
   ]
  },
  {
   "cell_type": "markdown",
   "id": "0ac79b78",
   "metadata": {},
   "source": [
    "### 2- __ eq __:"
   ]
  },
  {
   "cell_type": "code",
   "execution_count": 6,
   "id": "38b4fb78",
   "metadata": {},
   "outputs": [
    {
     "name": "stdout",
     "output_type": "stream",
     "text": [
      "True\n"
     ]
    }
   ],
   "source": [
    "class Rectangle:\n",
    "    def __init__(self, w, h):\n",
    "        self.width = w\n",
    "        self.height = h\n",
    "        \n",
    "    def perimeter(self):\n",
    "        return self.width * self.height\n",
    "    \n",
    "    def area(self):\n",
    "        return (self.width + self.height) * 2\n",
    "    \n",
    "    def __str__(self):\n",
    "        return f\"Rectangles width and height is {self.width}, {self.height}\"\n",
    "    \n",
    "    def __eq__(self, other):\n",
    "        if self.width == other.width and self.height == other.height:\n",
    "            return True\n",
    "        return False\n",
    "    \n",
    "rect1 = Rectangle(3, 3)\n",
    "rect2 = Rectangle(3, 3)\n",
    "print(rect1 == rect2)"
   ]
  },
  {
   "cell_type": "markdown",
   "id": "71424528",
   "metadata": {},
   "source": [
    "### 3- __ add __:"
   ]
  },
  {
   "cell_type": "code",
   "execution_count": 7,
   "id": "784dcff4",
   "metadata": {},
   "outputs": [
    {
     "name": "stdout",
     "output_type": "stream",
     "text": [
      "Rectangles width and height is 6, 7\n"
     ]
    }
   ],
   "source": [
    "class Rectangle:\n",
    "    def __init__(self, w, h):\n",
    "        self.width = w\n",
    "        self.height = h\n",
    "        \n",
    "    def perimeter(self):\n",
    "        return self.width * self.height\n",
    "    \n",
    "    def area(self):\n",
    "        return (self.width + self.height) * 2\n",
    "    \n",
    "    def __str__(self):\n",
    "        return f\"Rectangles width and height is {self.width}, {self.height}\"\n",
    "    \n",
    "    def __eq__(self, other):\n",
    "        if self.width == other.width and self.height == other.height:\n",
    "            return True\n",
    "        return False\n",
    "    \n",
    "    def __add__(self, other):\n",
    "        return Rectangle(self.width + other.width, self.height + other.height)\n",
    "    \n",
    "rec1 = Rectangle(3, 3)\n",
    "rec2 = Rectangle(3, 4)\n",
    "new_rec = rec1 + rec2\n",
    "print(new_rec)"
   ]
  },
  {
   "cell_type": "markdown",
   "id": "033b4950",
   "metadata": {},
   "source": [
    "### 4- __ sub __:"
   ]
  },
  {
   "cell_type": "code",
   "execution_count": 8,
   "id": "1b5618c7",
   "metadata": {},
   "outputs": [
    {
     "name": "stdout",
     "output_type": "stream",
     "text": [
      "Rectangles width and height is 3, 2\n"
     ]
    }
   ],
   "source": [
    "class Rectangle:\n",
    "    def __init__(self, w, h):\n",
    "        self.width = w\n",
    "        self.height = h\n",
    "        \n",
    "    def perimeter(self):\n",
    "        return self.width * self.height\n",
    "    \n",
    "    def area(self):\n",
    "        return (self.width + self.height) * 2\n",
    "    \n",
    "    def __str__(self):\n",
    "        return f\"Rectangles width and height is {self.width}, {self.height}\"\n",
    "    \n",
    "    def __eq__(self, other):\n",
    "        if self.width == other.width and self.height == other.height:\n",
    "            return True\n",
    "        return False\n",
    "    \n",
    "    def __add__(self, other):\n",
    "        return Rectangle(self.width + other.width, self.height + other.height)\n",
    "    \n",
    "    def __sub__(self, other):\n",
    "        return Rectangle(self.width - other.width, self.height - other.height)\n",
    "    \n",
    "rec1 = Rectangle(6, 6)\n",
    "rec2 = Rectangle(3, 4)\n",
    "new_rec = rec1 - rec2\n",
    "print(new_rec)"
   ]
  },
  {
   "cell_type": "markdown",
   "id": "292bce5a",
   "metadata": {},
   "source": [
    "### -For more visit: https://www.tutorialsteacher.com/python/magic-methods-in-python "
   ]
  },
  {
   "cell_type": "markdown",
   "id": "78a2329f",
   "metadata": {},
   "source": [
    "## -Inheritance:"
   ]
  },
  {
   "cell_type": "code",
   "execution_count": 9,
   "id": "5b33e39d",
   "metadata": {},
   "outputs": [],
   "source": [
    "class Employee:\n",
    "    def __init__(self, name, salary, department):\n",
    "        self.name = name\n",
    "        self.salary = salary\n",
    "        self.department = department\n",
    "        \n",
    "    def increase_salary(self, value):\n",
    "        self.salary += value\n",
    "        \n",
    "    def change_department(self, new_department):\n",
    "        self.department = new_department\n",
    "        \n",
    "        \n",
    "class Programmer:\n",
    "    def __init__(self, name, salary, department, skills):\n",
    "        self.name = name\n",
    "        self.salary = salary\n",
    "        self.department = department\n",
    "        self.skills = skills\n",
    "\n",
    "    def increase_salary(self, value):\n",
    "        self.salary += value\n",
    "        \n",
    "    def change_department(self, new_department):\n",
    "        self.department = new_department\n",
    "        \n",
    "    def add_skills(self, skill):\n",
    "        self.skills.append(skill)"
   ]
  },
  {
   "cell_type": "markdown",
   "id": "f1018e33",
   "metadata": {},
   "source": [
    "<img src=\"inher.png\">"
   ]
  },
  {
   "cell_type": "code",
   "execution_count": 10,
   "id": "e263e865",
   "metadata": {},
   "outputs": [
    {
     "name": "stdout",
     "output_type": "stream",
     "text": [
      "127000\n",
      "['Python', 'Statistics', 'ML', 'Pandas', 'Algorithm']\n",
      "Negar who works in Data Science with 127000$ salary. who knows Python, Statistics, ML, Pandas, Algorithm\n"
     ]
    }
   ],
   "source": [
    "class Employee:\n",
    "    def __init__(self, name, salary, department):\n",
    "        self.name = name\n",
    "        self.salary = salary\n",
    "        self.department = department\n",
    "        \n",
    "    def increase_salary(self, value):\n",
    "        self.salary += value\n",
    "        \n",
    "    def change_department(self, new_department):\n",
    "        self.department = new_department\n",
    "        \n",
    "    def __str__(self):\n",
    "        return f\"{self.name} who works in {self.department} with {self.salary}$ salary.\"\n",
    "    \n",
    "    \n",
    "class Programmer(Employee):\n",
    "    def __init__(self, name, salary, department, skills):\n",
    "        super().__init__(name, salary, department)\n",
    "        self.skills = skills\n",
    "        \n",
    "    def add_skills(self, skill):\n",
    "        self.skills.append(skill)\n",
    "        \n",
    "    def __str__(self):\n",
    "        return f\"{super().__str__()} who knows {', '.join(self.skills)}\"\n",
    "        \n",
    "\n",
    "p1 = Programmer(\"Negar\", 120_000, \"Data Science\", [\"Python\", \"Statistics\", \"ML\", \"Pandas\"])\n",
    "p1.increase_salary(7000)\n",
    "print(p1.salary)\n",
    "p1.add_skills(\"Algorithm\")\n",
    "print(p1.skills)\n",
    "print(p1)"
   ]
  },
  {
   "cell_type": "markdown",
   "id": "9165db71",
   "metadata": {},
   "source": [
    "## -Object Class:\n",
    "#### -The parent of all classes is the object class.\n",
    "#### -Employee is sub class of Object and Programmer is sub class of Employee as a result Programmer is sub class of Object too."
   ]
  },
  {
   "cell_type": "markdown",
   "id": "f28e4c0c",
   "metadata": {},
   "source": [
    "## -Override:"
   ]
  },
  {
   "cell_type": "markdown",
   "id": "984e8db4",
   "metadata": {},
   "source": [
    "#### -The change of all or part of the attribute or function of the inherited class is called overriding."
   ]
  },
  {
   "cell_type": "markdown",
   "id": "2fd454a6",
   "metadata": {},
   "source": [
    "## -Polymorphism:"
   ]
  },
  {
   "cell_type": "markdown",
   "id": "edb974af",
   "metadata": {},
   "source": [
    "<img src=\"polymor.png\">"
   ]
  },
  {
   "cell_type": "markdown",
   "id": "4892c86d",
   "metadata": {},
   "source": [
    "## -Homeworks:\n",
    "#### 1-Bank account class"
   ]
  }
 ],
 "metadata": {
  "kernelspec": {
   "display_name": "Python 3 (ipykernel)",
   "language": "python",
   "name": "python3"
  },
  "language_info": {
   "codemirror_mode": {
    "name": "ipython",
    "version": 3
   },
   "file_extension": ".py",
   "mimetype": "text/x-python",
   "name": "python",
   "nbconvert_exporter": "python",
   "pygments_lexer": "ipython3",
   "version": "3.8.5"
  }
 },
 "nbformat": 4,
 "nbformat_minor": 5
}
