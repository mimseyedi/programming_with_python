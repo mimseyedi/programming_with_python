{
 "cells": [
  {
   "cell_type": "markdown",
   "id": "4b47cf91",
   "metadata": {},
   "source": [
    "# Lesson eight:"
   ]
  },
  {
   "cell_type": "markdown",
   "id": "bc42ddd8",
   "metadata": {},
   "source": [
    "## -Python Errors:\n",
    "#### 1-Syntax Error\n",
    "#### 2-Exception"
   ]
  },
  {
   "cell_type": "markdown",
   "id": "a38c4745",
   "metadata": {},
   "source": [
    "<img src=\"exception.png\">"
   ]
  },
  {
   "cell_type": "markdown",
   "id": "7fb48747",
   "metadata": {},
   "source": [
    "## -Ways to deal with errors:"
   ]
  },
  {
   "cell_type": "markdown",
   "id": "ab05c5c0",
   "metadata": {},
   "source": [
    "### 1-Prevention:"
   ]
  },
  {
   "cell_type": "code",
   "execution_count": 1,
   "id": "209bccba",
   "metadata": {},
   "outputs": [
    {
     "name": "stdout",
     "output_type": "stream",
     "text": [
      "r\n",
      "Please enter a number!\n"
     ]
    }
   ],
   "source": [
    "a = input()\n",
    "if a.isdigit():\n",
    "    b = input()\n",
    "    if b.isdigit():\n",
    "        print(f\"result = {int(a) + int(b)}\")\n",
    "    else:\n",
    "        print(\"Please enter a number!\")\n",
    "else:\n",
    "    print(\"Please enter a number!\")"
   ]
  },
  {
   "cell_type": "markdown",
   "id": "c94c7a6c",
   "metadata": {},
   "source": [
    "### 2-Treatment:"
   ]
  },
  {
   "cell_type": "code",
   "execution_count": 2,
   "id": "171ba095",
   "metadata": {},
   "outputs": [
    {
     "name": "stdout",
     "output_type": "stream",
     "text": [
      "s\n",
      "Please enter a number!\n"
     ]
    }
   ],
   "source": [
    "try:\n",
    "    a = int(input())\n",
    "    b = int(input())\n",
    "    print(f\"result = {a + b}\")\n",
    "except:\n",
    "    print(\"Please enter a number!\")"
   ]
  },
  {
   "cell_type": "markdown",
   "id": "84b04f9f",
   "metadata": {},
   "source": [
    "## -Polymorphism Exceptions:"
   ]
  },
  {
   "cell_type": "code",
   "execution_count": 3,
   "id": "534d0ded",
   "metadata": {},
   "outputs": [
    {
     "name": "stdout",
     "output_type": "stream",
     "text": [
      "0\n",
      "0\n",
      "division by zero\n"
     ]
    }
   ],
   "source": [
    "try:\n",
    "    a = int(input())\n",
    "    b = int(input())\n",
    "    print(a / b)\n",
    "except Exception as error:\n",
    "    print(error)"
   ]
  },
  {
   "cell_type": "code",
   "execution_count": 4,
   "id": "0143c270",
   "metadata": {
    "scrolled": true
   },
   "outputs": [
    {
     "name": "stdout",
     "output_type": "stream",
     "text": [
      "4\n",
      "0\n",
      "ZeroDivisionError: division by zero\n"
     ]
    }
   ],
   "source": [
    "try:\n",
    "    a = int(input())\n",
    "    b = int(input())\n",
    "    print(a / b)\n",
    "except Exception as error:\n",
    "    print(f\"{type(error).__name__}: {error}\")"
   ]
  },
  {
   "cell_type": "markdown",
   "id": "bbaa2235",
   "metadata": {},
   "source": [
    "## -Handling errors one by one:"
   ]
  },
  {
   "cell_type": "code",
   "execution_count": 5,
   "id": "378e833f",
   "metadata": {},
   "outputs": [
    {
     "name": "stdout",
     "output_type": "stream",
     "text": [
      "2\n",
      "r\n",
      "Please enter a number!\n"
     ]
    }
   ],
   "source": [
    "try:\n",
    "    a = int(input())\n",
    "    b = int(input())\n",
    "    print(a / b)\n",
    "    \n",
    "except ZeroDivisionError as error:\n",
    "    print(\"Can not dividing by zero!\")\n",
    "    \n",
    "except ValueError as error:\n",
    "    print(\"Please enter a number!\")\n",
    "    \n",
    "except Exception as error:\n",
    "    print(f\"{type(error).__name__}: {error}\")"
   ]
  },
  {
   "cell_type": "markdown",
   "id": "e5dfb11f",
   "metadata": {},
   "source": [
    "## -Unittest:"
   ]
  },
  {
   "cell_type": "markdown",
   "id": "f6fa9ff6",
   "metadata": {},
   "source": [
    "<img src=\"unittest.png\">"
   ]
  },
  {
   "cell_type": "code",
   "execution_count": 6,
   "id": "b8ec2315",
   "metadata": {},
   "outputs": [
    {
     "name": "stderr",
     "output_type": "stream",
     "text": [
      "E\n",
      "======================================================================\n",
      "ERROR: /Users/osx/Library/Jupyter/runtime/kernel-ec9aa088-66e7-452c-a0c9-3eb068dd34d8 (unittest.loader._FailedTest)\n",
      "----------------------------------------------------------------------\n",
      "AttributeError: module '__main__' has no attribute '/Users/osx/Library/Jupyter/runtime/kernel-ec9aa088-66e7-452c-a0c9-3eb068dd34d8'\n",
      "\n",
      "----------------------------------------------------------------------\n",
      "Ran 1 test in 0.001s\n",
      "\n",
      "FAILED (errors=1)\n"
     ]
    },
    {
     "ename": "SystemExit",
     "evalue": "True",
     "output_type": "error",
     "traceback": [
      "An exception has occurred, use %tb to see the full traceback.\n",
      "\u001b[0;31mSystemExit\u001b[0m\u001b[0;31m:\u001b[0m True\n"
     ]
    },
    {
     "name": "stderr",
     "output_type": "stream",
     "text": [
      "/usr/local/lib/python3.8/site-packages/IPython/core/interactiveshell.py:3449: UserWarning: To exit: use 'exit', 'quit', or Ctrl-D.\n",
      "  warn(\"To exit: use 'exit', 'quit', or Ctrl-D.\", stacklevel=1)\n"
     ]
    }
   ],
   "source": [
    "import unittest\n",
    "\n",
    "def fact(n):\n",
    "    s = 1\n",
    "    for i in range(2, n + 1):\n",
    "        s *= i\n",
    "    return s\n",
    "\n",
    "\n",
    "class FactorialTest(unittest.TestCase):\n",
    "    \n",
    "    def test1(self):\n",
    "        self.assertEqual(fact(3), 6)\n",
    "\n",
    "    def test2(self):\n",
    "        self.assertEqual(fact(4), 24)\n",
    "\n",
    "    def test3(self):\n",
    "        self.assertEqual(fact(5), 120)\n",
    "\n",
    "        \n",
    "unittest.main()"
   ]
  },
  {
   "cell_type": "markdown",
   "id": "acd49d19",
   "metadata": {},
   "source": [
    "### -Unittest Output:\n",
    "#### -For example: ..F....F....E..EF..\n",
    "#### 1- Dot or '.' means the test is accepted (True)\n",
    "#### 2- 'F' means the test is not accepted (False)\n",
    "#### 3- 'E' means the test could not be run (Error, Exception, Runtime Error)"
   ]
  },
  {
   "cell_type": "markdown",
   "id": "e4f84452",
   "metadata": {},
   "source": [
    "## -Pythonic Style:"
   ]
  },
  {
   "cell_type": "markdown",
   "id": "52823a93",
   "metadata": {},
   "source": [
    "### 1-Change value of two variables:"
   ]
  },
  {
   "cell_type": "code",
   "execution_count": 7,
   "id": "059d8c7a",
   "metadata": {},
   "outputs": [
    {
     "name": "stdout",
     "output_type": "stream",
     "text": [
      "30 10\n"
     ]
    }
   ],
   "source": [
    "# normal way:\n",
    "a = 10\n",
    "b = 30\n",
    "\n",
    "temp = a\n",
    "a = b\n",
    "b = temp\n",
    "print(a, b)"
   ]
  },
  {
   "cell_type": "code",
   "execution_count": 8,
   "id": "99f2db93",
   "metadata": {},
   "outputs": [
    {
     "name": "stdout",
     "output_type": "stream",
     "text": [
      "30 10\n"
     ]
    }
   ],
   "source": [
    "# pythonic way:\n",
    "a = 10\n",
    "b = 30\n",
    "\n",
    "a, b = b, a\n",
    "print(a, b)"
   ]
  },
  {
   "cell_type": "markdown",
   "id": "132b0b17",
   "metadata": {},
   "source": [
    "### 2-Merging lists and dictionaries in new one:"
   ]
  },
  {
   "cell_type": "code",
   "execution_count": 9,
   "id": "59d346b1",
   "metadata": {},
   "outputs": [
    {
     "name": "stdout",
     "output_type": "stream",
     "text": [
      "[1, 2, 3, 4, 5, 6]\n"
     ]
    }
   ],
   "source": [
    "# normal way:\n",
    "list1 = [1, 2, 3]\n",
    "list2 = [4, 5, 6]\n",
    "list3 = []\n",
    "list3.extend(list1)\n",
    "list3.extend(list2)\n",
    "print(list3)"
   ]
  },
  {
   "cell_type": "code",
   "execution_count": 10,
   "id": "4feec74d",
   "metadata": {},
   "outputs": [
    {
     "name": "stdout",
     "output_type": "stream",
     "text": [
      "[1, 2, 3, 4, 5, 6]\n"
     ]
    }
   ],
   "source": [
    "# pythonic way:\n",
    "list1 = [1, 2, 3]\n",
    "list2 = [4, 5, 6]\n",
    "list3 = [*list1, *list2]\n",
    "print(list3)"
   ]
  },
  {
   "cell_type": "code",
   "execution_count": 11,
   "id": "7ae70840",
   "metadata": {},
   "outputs": [
    {
     "name": "stdout",
     "output_type": "stream",
     "text": [
      "{'k1': 1, 'k2': 2, 'k3': 3, 'k4': 4}\n"
     ]
    }
   ],
   "source": [
    "# normal way:\n",
    "d1 = {'k1': 1, 'k2': 2}\n",
    "d2 = {'k3': 3, 'k4': 4}\n",
    "d3 = {}\n",
    "d3.update(d1)\n",
    "d3.update(d2)\n",
    "print(d3)"
   ]
  },
  {
   "cell_type": "code",
   "execution_count": 12,
   "id": "56012646",
   "metadata": {},
   "outputs": [
    {
     "name": "stdout",
     "output_type": "stream",
     "text": [
      "{'k1': 1, 'k2': 2, 'k3': 3, 'k4': 4}\n"
     ]
    }
   ],
   "source": [
    "# pythonic way:\n",
    "d1 = {'k1': 1, 'k2': 2}\n",
    "d2 = {'k3': 3, 'k4': 4}\n",
    "d3 = {**d1, **d2}\n",
    "print(d3)"
   ]
  },
  {
   "cell_type": "markdown",
   "id": "9c7501e9",
   "metadata": {},
   "source": [
    "### 3-Appending into the lists:"
   ]
  },
  {
   "cell_type": "code",
   "execution_count": 13,
   "id": "0f4a60c7",
   "metadata": {},
   "outputs": [
    {
     "name": "stdout",
     "output_type": "stream",
     "text": [
      "[1, 2, 3, 4, 5, 6, 7, 8, 9, 10]\n"
     ]
    }
   ],
   "source": [
    "# normal way:\n",
    "my_list = []\n",
    "for i in range(1, 11):\n",
    "    my_list.append(i)\n",
    "\n",
    "print(my_list)"
   ]
  },
  {
   "cell_type": "code",
   "execution_count": 14,
   "id": "57c4cc66",
   "metadata": {},
   "outputs": [
    {
     "name": "stdout",
     "output_type": "stream",
     "text": [
      "[1, 2, 3, 4, 5, 6, 7, 8, 9, 10]\n"
     ]
    }
   ],
   "source": [
    "# pythonic way:\n",
    "my_list = [i for i in range(1, 11)]\n",
    "print(my_list)"
   ]
  },
  {
   "cell_type": "markdown",
   "id": "9deb4fa2",
   "metadata": {},
   "source": [
    "### 4-One line condition:"
   ]
  },
  {
   "cell_type": "code",
   "execution_count": 15,
   "id": "c50352eb",
   "metadata": {},
   "outputs": [
    {
     "name": "stdout",
     "output_type": "stream",
     "text": [
      "True\n"
     ]
    }
   ],
   "source": [
    "# normal way:\n",
    "names = [\"Vahid\", \"Saqar\", \"Farhad\", \"Gelareh\"]\n",
    "if \"Farhad\" in names:\n",
    "    print(True)\n",
    "else:\n",
    "    print(False)"
   ]
  },
  {
   "cell_type": "code",
   "execution_count": 16,
   "id": "619fb004",
   "metadata": {},
   "outputs": [
    {
     "name": "stdout",
     "output_type": "stream",
     "text": [
      "True\n"
     ]
    }
   ],
   "source": [
    "# pythonic way:\n",
    "names = [\"Vahid\", \"Saqar\", \"Farhad\", \"Gelareh\"]\n",
    "print(True if 'Farhad' in names else False)"
   ]
  },
  {
   "cell_type": "markdown",
   "id": "2ce3937c",
   "metadata": {},
   "source": [
    "### 5-lambda:"
   ]
  },
  {
   "cell_type": "code",
   "execution_count": 17,
   "id": "ebf46072",
   "metadata": {},
   "outputs": [
    {
     "name": "stdout",
     "output_type": "stream",
     "text": [
      "False\n"
     ]
    }
   ],
   "source": [
    "# normal way:\n",
    "def find_name(list_of_names, name):\n",
    "    if name in list_of_names:\n",
    "        return True\n",
    "    return False\n",
    "\n",
    "names = [\"Vahid\", \"Saqar\", \"Farhad\", \"Gelareh\"]\n",
    "print(find_name(names, \"Kambiz\"))"
   ]
  },
  {
   "cell_type": "code",
   "execution_count": 18,
   "id": "8741ac34",
   "metadata": {},
   "outputs": [
    {
     "name": "stdout",
     "output_type": "stream",
     "text": [
      "True\n"
     ]
    }
   ],
   "source": [
    "# pythonic way:\n",
    "find_name = lambda list_of_names, name: True if name in list_of_names else False\n",
    "\n",
    "names = [\"Vahid\", \"Saqar\", \"Farhad\", \"Gelareh\"]\n",
    "print(find_name(names, \"Saqar\"))"
   ]
  },
  {
   "cell_type": "code",
   "execution_count": 19,
   "id": "748a2552",
   "metadata": {},
   "outputs": [
    {
     "name": "stdout",
     "output_type": "stream",
     "text": [
      "['VAHID', 'SAQAR', 'FARHAD', 'GELAREH']\n"
     ]
    }
   ],
   "source": [
    "# lambda in map:\n",
    "names = [\"Vahid\", \"Saqar\", \"Farhad\", \"Gelareh\"]\n",
    "NAMES = list(map(lambda name: name.upper(), names))\n",
    "print(NAMES)"
   ]
  },
  {
   "cell_type": "markdown",
   "id": "0430a690",
   "metadata": {},
   "source": [
    "### 6-Generators:"
   ]
  },
  {
   "cell_type": "code",
   "execution_count": 20,
   "id": "40a1d8a5",
   "metadata": {},
   "outputs": [
    {
     "name": "stdout",
     "output_type": "stream",
     "text": [
      "DIHAV\n",
      "RAQAS\n",
      "DAHRAF\n",
      "HERALEG\n"
     ]
    }
   ],
   "source": [
    "# normal way:\n",
    "def rev_up_gen(_names):\n",
    "    for changed_name in _names:\n",
    "        yield changed_name.upper()[::-1]\n",
    "\n",
    "names = [\"Vahid\", \"Saqar\", \"Farhad\", \"Gelareh\"]\n",
    "for i in rev_up_gen(names):\n",
    "    print(i)"
   ]
  },
  {
   "cell_type": "code",
   "execution_count": 21,
   "id": "20e1f593",
   "metadata": {},
   "outputs": [
    {
     "name": "stdout",
     "output_type": "stream",
     "text": [
      "DIHAV\n",
      "RAQAS\n",
      "DAHRAF\n",
      "HERALEG\n"
     ]
    }
   ],
   "source": [
    "# pythonic way:\n",
    "names = [\"Vahid\", \"Saqar\", \"Farhad\", \"Gelareh\"]\n",
    "rev_up_gen = (name[::-1] for name in (name.upper() for name in names))\n",
    "\n",
    "for i in rev_up_gen:\n",
    "    print(i)"
   ]
  },
  {
   "cell_type": "markdown",
   "id": "7f1c954b",
   "metadata": {},
   "source": [
    "### 7-Ignoring variable:"
   ]
  },
  {
   "cell_type": "code",
   "execution_count": 22,
   "id": "bfff859e",
   "metadata": {},
   "outputs": [
    {
     "name": "stdout",
     "output_type": "stream",
     "text": [
      "Python\n",
      "Python\n",
      "Python\n"
     ]
    }
   ],
   "source": [
    "for _ in range(3):\n",
    "    print(\"Python\")"
   ]
  },
  {
   "cell_type": "markdown",
   "id": "404d448b",
   "metadata": {},
   "source": [
    "### 8-Readable big numbers:"
   ]
  },
  {
   "cell_type": "code",
   "execution_count": 23,
   "id": "c91f2895",
   "metadata": {},
   "outputs": [
    {
     "name": "stdout",
     "output_type": "stream",
     "text": [
      "True\n"
     ]
    }
   ],
   "source": [
    "def is_prime(n):\n",
    "    if (n - 1) % 6 == 0 or (n + 1) % 6 == 0:\n",
    "        return True\n",
    "    return False\n",
    "\n",
    "print(is_prime(10_062_133_784_115_275_977))"
   ]
  }
 ],
 "metadata": {
  "kernelspec": {
   "display_name": "Python 3 (ipykernel)",
   "language": "python",
   "name": "python3"
  },
  "language_info": {
   "codemirror_mode": {
    "name": "ipython",
    "version": 3
   },
   "file_extension": ".py",
   "mimetype": "text/x-python",
   "name": "python",
   "nbconvert_exporter": "python",
   "pygments_lexer": "ipython3",
   "version": "3.8.5"
  }
 },
 "nbformat": 4,
 "nbformat_minor": 5
}
