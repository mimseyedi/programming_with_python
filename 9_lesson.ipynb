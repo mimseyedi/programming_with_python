{
 "cells": [
  {
   "cell_type": "markdown",
   "id": "9aec10a4",
   "metadata": {},
   "source": [
    "# Lesson nine:"
   ]
  },
  {
   "cell_type": "markdown",
   "id": "20eddc1c",
   "metadata": {},
   "source": [
    "## -Work with files in Python:\n",
    "#### -Files are important because we can store our data in them and write or read to them whenever we want. "
   ]
  },
  {
   "cell_type": "markdown",
   "id": "ac8fbbcd",
   "metadata": {},
   "source": [
    "## -Writing in file:"
   ]
  },
  {
   "cell_type": "code",
   "execution_count": 1,
   "id": "ed7cbf76",
   "metadata": {},
   "outputs": [],
   "source": [
    "with open(\"file1.txt\", 'w+') as my_file:\n",
    "    data = \"My first writing in file with amazing Python\"\n",
    "    my_file.write(data)"
   ]
  },
  {
   "cell_type": "markdown",
   "id": "f0d3a4df",
   "metadata": {},
   "source": [
    "## -Reading file:"
   ]
  },
  {
   "cell_type": "code",
   "execution_count": 2,
   "id": "6a29aeba",
   "metadata": {},
   "outputs": [
    {
     "name": "stdout",
     "output_type": "stream",
     "text": [
      "My first writing in file with amazing Python\n"
     ]
    }
   ],
   "source": [
    "with open(\"file1.txt\", 'r') as my_file:\n",
    "    data = my_file.read()\n",
    "\n",
    "print(data)"
   ]
  },
  {
   "cell_type": "markdown",
   "id": "64b1f552",
   "metadata": {},
   "source": [
    "### -More Writing:"
   ]
  },
  {
   "cell_type": "code",
   "execution_count": 3,
   "id": "5468aad6",
   "metadata": {},
   "outputs": [],
   "source": [
    "with open(\"file1.txt\", 'a+') as my_file:\n",
    "    data = \"\\nYohooooooooooo\"\n",
    "    my_file.write(data)"
   ]
  },
  {
   "cell_type": "markdown",
   "id": "e3c6e021",
   "metadata": {},
   "source": [
    "### -And again reading the file:"
   ]
  },
  {
   "cell_type": "code",
   "execution_count": 4,
   "id": "7a1af4c6",
   "metadata": {},
   "outputs": [
    {
     "name": "stdout",
     "output_type": "stream",
     "text": [
      "My first writing in file with amazing Python\n",
      "Yohooooooooooo\n"
     ]
    }
   ],
   "source": [
    "with open(\"file1.txt\", 'r') as my_file:\n",
    "    data = my_file.read()\n",
    "\n",
    "print(data)"
   ]
  },
  {
   "cell_type": "markdown",
   "id": "99ec17da",
   "metadata": {},
   "source": [
    "## -Files mode:\n",
    "#### -r: open an existing file for a read operation.\n",
    "#### -w: open an existing file for a write operation. If the file already contains some data then it will be overridden.\n",
    "#### -a:  open an existing file for append operation. It won’t override existing data.\n",
    "#### -r+:  To read and write data into the file. The previous data in the file will not be deleted.\n",
    "#### -w+: To write and read data. It will override existing data.\n",
    "#### -a+: To append and read data from the file. It won’t override existing data."
   ]
  },
  {
   "cell_type": "markdown",
   "id": "5446fbe5",
   "metadata": {},
   "source": [
    "## -Database:"
   ]
  },
  {
   "cell_type": "markdown",
   "id": "cd168213",
   "metadata": {},
   "source": [
    "<img src=\"database.png\">"
   ]
  },
  {
   "cell_type": "markdown",
   "id": "8588c46a",
   "metadata": {},
   "source": [
    "## -Tables:"
   ]
  },
  {
   "cell_type": "markdown",
   "id": "86a37f38",
   "metadata": {},
   "source": [
    "<img src=\"table.png\">"
   ]
  },
  {
   "cell_type": "markdown",
   "id": "b5e8a597",
   "metadata": {},
   "source": [
    "## -Sqlite3:\n",
    "### -Connection and create table:"
   ]
  },
  {
   "cell_type": "code",
   "execution_count": 5,
   "id": "454b1dc4",
   "metadata": {},
   "outputs": [
    {
     "data": {
      "text/plain": [
       "<sqlite3.Cursor at 0x10a539340>"
      ]
     },
     "execution_count": 5,
     "metadata": {},
     "output_type": "execute_result"
    }
   ],
   "source": [
    "import sqlite3\n",
    "\n",
    "connector = sqlite3.connect(\"phone_book_database.db\")\n",
    "cursor = connector.cursor()\n",
    "cursor.execute(\"CREATE TABLE IF NOT EXISTS PhoneBook (Name text, Phone Text)\")"
   ]
  },
  {
   "cell_type": "markdown",
   "id": "840921d6",
   "metadata": {},
   "source": [
    "### -Adding some data:"
   ]
  },
  {
   "cell_type": "code",
   "execution_count": 6,
   "id": "9689365d",
   "metadata": {},
   "outputs": [],
   "source": [
    "cursor.execute(\"INSERT INTO PhoneBook VALUES ('Arash', '0938-xxx-6591')\")\n",
    "cursor.execute(\"INSERT INTO PhoneBook VALUES ('Sepideh', '0919-xxx-3357')\")\n",
    "cursor.execute(\"INSERT INTO PhoneBook VALUES ('Hamid', '0912-xxx-9102')\")\n",
    "cursor.execute(\"INSERT INTO PhoneBook VALUES ('Kimia', '0920-xxx-3140')\")\n",
    "connector.commit()"
   ]
  },
  {
   "cell_type": "markdown",
   "id": "310b823c",
   "metadata": {},
   "source": [
    "### -Reading Data:"
   ]
  },
  {
   "cell_type": "code",
   "execution_count": 7,
   "id": "0059638f",
   "metadata": {},
   "outputs": [
    {
     "name": "stdout",
     "output_type": "stream",
     "text": [
      "[('Arash', '0938-xxx-6591'), ('Sepideh', '0919-xxx-3357'), ('Hamid', '0912-xxx-9102'), ('Kimia', '0920-xxx-3140')]\n"
     ]
    }
   ],
   "source": [
    "cursor.execute(\"SELECT * FROM PhoneBook\")\n",
    "print(cursor.fetchall())"
   ]
  },
  {
   "cell_type": "markdown",
   "id": "5e92168a",
   "metadata": {},
   "source": [
    "### -Deleting Data:"
   ]
  },
  {
   "cell_type": "code",
   "execution_count": 8,
   "id": "b051f585",
   "metadata": {},
   "outputs": [
    {
     "name": "stdout",
     "output_type": "stream",
     "text": [
      "[('Sepideh', '0919-xxx-3357'), ('Hamid', '0912-xxx-9102'), ('Kimia', '0920-xxx-3140')]\n"
     ]
    }
   ],
   "source": [
    "cursor.execute(\"DELETE FROM PhoneBook WHERE Name = 'Arash'\")\n",
    "connector.commit()\n",
    "\n",
    "cursor.execute(\"SELECT * FROM PhoneBook\")\n",
    "print(cursor.fetchall())"
   ]
  },
  {
   "cell_type": "markdown",
   "id": "6c2033c9",
   "metadata": {},
   "source": [
    "### -Updating Data:"
   ]
  },
  {
   "cell_type": "code",
   "execution_count": 9,
   "id": "ae4e2ba1",
   "metadata": {},
   "outputs": [
    {
     "name": "stdout",
     "output_type": "stream",
     "text": [
      "[('Sepideh', '0912-xxx-4030'), ('Hamid', '0912-xxx-9102'), ('Kimia', '0920-xxx-3140')]\n"
     ]
    }
   ],
   "source": [
    "cursor.execute(\"UPDATE PhoneBook SET Phone = '0912-xxx-4030' WHERE Name = 'Sepideh'\")\n",
    "connector.commit()\n",
    "\n",
    "cursor.execute(\"SELECT * FROM PhoneBook\")\n",
    "print(cursor.fetchall())"
   ]
  },
  {
   "cell_type": "markdown",
   "id": "20ccc74b",
   "metadata": {},
   "source": [
    "### -Searching:"
   ]
  },
  {
   "cell_type": "code",
   "execution_count": 10,
   "id": "05f4d1f8",
   "metadata": {
    "scrolled": true
   },
   "outputs": [
    {
     "name": "stdout",
     "output_type": "stream",
     "text": [
      "[('Kimia', '0920-xxx-3140')]\n"
     ]
    }
   ],
   "source": [
    "cursor.execute(\"SELECT * FROM PhoneBook WHERE Name = 'Kimia'\")\n",
    "print(cursor.fetchall())"
   ]
  },
  {
   "cell_type": "markdown",
   "id": "dd6fe333",
   "metadata": {},
   "source": [
    "### -For more visit: https://likegeeks.com/python-sqlite3-tutorial/"
   ]
  }
 ],
 "metadata": {
  "kernelspec": {
   "display_name": "Python 3 (ipykernel)",
   "language": "python",
   "name": "python3"
  },
  "language_info": {
   "codemirror_mode": {
    "name": "ipython",
    "version": 3
   },
   "file_extension": ".py",
   "mimetype": "text/x-python",
   "name": "python",
   "nbconvert_exporter": "python",
   "pygments_lexer": "ipython3",
   "version": "3.8.5"
  }
 },
 "nbformat": 4,
 "nbformat_minor": 5
}
